{
 "cells": [
  {
   "cell_type": "code",
   "execution_count": 1,
   "metadata": {
    "collapsed": true
   },
   "outputs": [],
   "source": [
    "# importing standard libraries\n",
    "import pandas as pd\n",
    "import numpy as np\n",
    "import matplotlib.pyplot as plt\n",
    "%matplotlib inline\n",
    "import seaborn as sns"
   ]
  },
  {
   "cell_type": "code",
   "execution_count": 2,
   "metadata": {
    "collapsed": true
   },
   "outputs": [],
   "source": [
    "#reading the data\n",
    "train = pd.read_csv(\"C:/Users/HP/Documents/data science competitions/Mushroom dataset DSG-IITR/mushroom_train.csv\")\n",
    "test = pd.read_csv(\"C:/Users/HP/Documents/data science competitions/Mushroom dataset DSG-IITR/mushroom_test.csv\")"
   ]
  },
  {
   "cell_type": "code",
   "execution_count": 12,
   "metadata": {},
   "outputs": [
    {
     "data": {
      "text/html": [
       "<div>\n",
       "<style>\n",
       "    .dataframe thead tr:only-child th {\n",
       "        text-align: right;\n",
       "    }\n",
       "\n",
       "    .dataframe thead th {\n",
       "        text-align: left;\n",
       "    }\n",
       "\n",
       "    .dataframe tbody tr th {\n",
       "        vertical-align: top;\n",
       "    }\n",
       "</style>\n",
       "<table border=\"1\" class=\"dataframe\">\n",
       "  <thead>\n",
       "    <tr style=\"text-align: right;\">\n",
       "      <th></th>\n",
       "      <th>class</th>\n",
       "      <th>cap-shape</th>\n",
       "      <th>cap-surface</th>\n",
       "      <th>cap-color</th>\n",
       "      <th>bruises</th>\n",
       "      <th>odor</th>\n",
       "      <th>gill-attachment</th>\n",
       "      <th>gill-spacing</th>\n",
       "      <th>gill-size</th>\n",
       "      <th>gill-color</th>\n",
       "      <th>...</th>\n",
       "      <th>stalk-color-above-ring</th>\n",
       "      <th>stalk-color-below-ring</th>\n",
       "      <th>veil-type</th>\n",
       "      <th>veil-color</th>\n",
       "      <th>weight</th>\n",
       "      <th>ring-number</th>\n",
       "      <th>ring-type</th>\n",
       "      <th>spore-print-color</th>\n",
       "      <th>population</th>\n",
       "      <th>habitat</th>\n",
       "    </tr>\n",
       "  </thead>\n",
       "  <tbody>\n",
       "    <tr>\n",
       "      <th>0</th>\n",
       "      <td>p</td>\n",
       "      <td>f</td>\n",
       "      <td>s</td>\n",
       "      <td>e</td>\n",
       "      <td>f</td>\n",
       "      <td>s</td>\n",
       "      <td>f</td>\n",
       "      <td>c</td>\n",
       "      <td>n</td>\n",
       "      <td>b</td>\n",
       "      <td>...</td>\n",
       "      <td>p</td>\n",
       "      <td>w</td>\n",
       "      <td>p</td>\n",
       "      <td>w</td>\n",
       "      <td>38</td>\n",
       "      <td>o</td>\n",
       "      <td>e</td>\n",
       "      <td>w</td>\n",
       "      <td>v</td>\n",
       "      <td>l</td>\n",
       "    </tr>\n",
       "    <tr>\n",
       "      <th>1</th>\n",
       "      <td>p</td>\n",
       "      <td>x</td>\n",
       "      <td>y</td>\n",
       "      <td>w</td>\n",
       "      <td>t</td>\n",
       "      <td>p</td>\n",
       "      <td>f</td>\n",
       "      <td>c</td>\n",
       "      <td>n</td>\n",
       "      <td>k</td>\n",
       "      <td>...</td>\n",
       "      <td>w</td>\n",
       "      <td>w</td>\n",
       "      <td>p</td>\n",
       "      <td>w</td>\n",
       "      <td>43</td>\n",
       "      <td>o</td>\n",
       "      <td>p</td>\n",
       "      <td>n</td>\n",
       "      <td>v</td>\n",
       "      <td>u</td>\n",
       "    </tr>\n",
       "    <tr>\n",
       "      <th>2</th>\n",
       "      <td>e</td>\n",
       "      <td>f</td>\n",
       "      <td>s</td>\n",
       "      <td>n</td>\n",
       "      <td>t</td>\n",
       "      <td>n</td>\n",
       "      <td>f</td>\n",
       "      <td>c</td>\n",
       "      <td>b</td>\n",
       "      <td>e</td>\n",
       "      <td>...</td>\n",
       "      <td>e</td>\n",
       "      <td>e</td>\n",
       "      <td>p</td>\n",
       "      <td>w</td>\n",
       "      <td>37</td>\n",
       "      <td>t</td>\n",
       "      <td>e</td>\n",
       "      <td>w</td>\n",
       "      <td>c</td>\n",
       "      <td>w</td>\n",
       "    </tr>\n",
       "    <tr>\n",
       "      <th>3</th>\n",
       "      <td>p</td>\n",
       "      <td>x</td>\n",
       "      <td>s</td>\n",
       "      <td>e</td>\n",
       "      <td>f</td>\n",
       "      <td>y</td>\n",
       "      <td>f</td>\n",
       "      <td>c</td>\n",
       "      <td>n</td>\n",
       "      <td>b</td>\n",
       "      <td>...</td>\n",
       "      <td>p</td>\n",
       "      <td>w</td>\n",
       "      <td>p</td>\n",
       "      <td>w</td>\n",
       "      <td>82</td>\n",
       "      <td>o</td>\n",
       "      <td>e</td>\n",
       "      <td>w</td>\n",
       "      <td>v</td>\n",
       "      <td>l</td>\n",
       "    </tr>\n",
       "    <tr>\n",
       "      <th>4</th>\n",
       "      <td>e</td>\n",
       "      <td>x</td>\n",
       "      <td>s</td>\n",
       "      <td>w</td>\n",
       "      <td>t</td>\n",
       "      <td>l</td>\n",
       "      <td>f</td>\n",
       "      <td>c</td>\n",
       "      <td>b</td>\n",
       "      <td>n</td>\n",
       "      <td>...</td>\n",
       "      <td>w</td>\n",
       "      <td>w</td>\n",
       "      <td>p</td>\n",
       "      <td>w</td>\n",
       "      <td>36</td>\n",
       "      <td>o</td>\n",
       "      <td>p</td>\n",
       "      <td>n</td>\n",
       "      <td>s</td>\n",
       "      <td>m</td>\n",
       "    </tr>\n",
       "  </tbody>\n",
       "</table>\n",
       "<p>5 rows × 25 columns</p>\n",
       "</div>"
      ],
      "text/plain": [
       "  class cap-shape cap-surface cap-color bruises odor gill-attachment  \\\n",
       "0     p         f           s         e       f    s               f   \n",
       "1     p         x           y         w       t    p               f   \n",
       "2     e         f           s         n       t    n               f   \n",
       "3     p         x           s         e       f    y               f   \n",
       "4     e         x           s         w       t    l               f   \n",
       "\n",
       "  gill-spacing gill-size gill-color   ...    stalk-color-above-ring  \\\n",
       "0            c         n          b   ...                         p   \n",
       "1            c         n          k   ...                         w   \n",
       "2            c         b          e   ...                         e   \n",
       "3            c         n          b   ...                         p   \n",
       "4            c         b          n   ...                         w   \n",
       "\n",
       "  stalk-color-below-ring  veil-type veil-color weight ring-number ring-type  \\\n",
       "0                      w          p          w     38           o         e   \n",
       "1                      w          p          w     43           o         p   \n",
       "2                      e          p          w     37           t         e   \n",
       "3                      w          p          w     82           o         e   \n",
       "4                      w          p          w     36           o         p   \n",
       "\n",
       "  spore-print-color population  habitat  \n",
       "0                 w          v        l  \n",
       "1                 n          v        u  \n",
       "2                 w          c        w  \n",
       "3                 w          v        l  \n",
       "4                 n          s        m  \n",
       "\n",
       "[5 rows x 25 columns]"
      ]
     },
     "execution_count": 12,
     "metadata": {},
     "output_type": "execute_result"
    }
   ],
   "source": [
    "#overview of data\n",
    "train.head()"
   ]
  },
  {
   "cell_type": "code",
   "execution_count": 10,
   "metadata": {},
   "outputs": [
    {
     "data": {
      "text/plain": [
       "(5686, 25)"
      ]
     },
     "execution_count": 10,
     "metadata": {},
     "output_type": "execute_result"
    }
   ],
   "source": [
    "train.shape"
   ]
  },
  {
   "cell_type": "code",
   "execution_count": 11,
   "metadata": {},
   "outputs": [
    {
     "data": {
      "text/html": [
       "<div>\n",
       "<style>\n",
       "    .dataframe thead tr:only-child th {\n",
       "        text-align: right;\n",
       "    }\n",
       "\n",
       "    .dataframe thead th {\n",
       "        text-align: left;\n",
       "    }\n",
       "\n",
       "    .dataframe tbody tr th {\n",
       "        vertical-align: top;\n",
       "    }\n",
       "</style>\n",
       "<table border=\"1\" class=\"dataframe\">\n",
       "  <thead>\n",
       "    <tr style=\"text-align: right;\">\n",
       "      <th></th>\n",
       "      <th>radius</th>\n",
       "      <th>weight</th>\n",
       "    </tr>\n",
       "  </thead>\n",
       "  <tbody>\n",
       "    <tr>\n",
       "      <th>count</th>\n",
       "      <td>5686.000000</td>\n",
       "      <td>5686.000000</td>\n",
       "    </tr>\n",
       "    <tr>\n",
       "      <th>mean</th>\n",
       "      <td>202.627682</td>\n",
       "      <td>33.012487</td>\n",
       "    </tr>\n",
       "    <tr>\n",
       "      <th>std</th>\n",
       "      <td>350.213032</td>\n",
       "      <td>13.379082</td>\n",
       "    </tr>\n",
       "    <tr>\n",
       "      <th>min</th>\n",
       "      <td>1.000000</td>\n",
       "      <td>0.000000</td>\n",
       "    </tr>\n",
       "    <tr>\n",
       "      <th>25%</th>\n",
       "      <td>38.000000</td>\n",
       "      <td>23.000000</td>\n",
       "    </tr>\n",
       "    <tr>\n",
       "      <th>50%</th>\n",
       "      <td>129.000000</td>\n",
       "      <td>27.000000</td>\n",
       "    </tr>\n",
       "    <tr>\n",
       "      <th>75%</th>\n",
       "      <td>259.000000</td>\n",
       "      <td>40.000000</td>\n",
       "    </tr>\n",
       "    <tr>\n",
       "      <th>max</th>\n",
       "      <td>3500.000000</td>\n",
       "      <td>102.000000</td>\n",
       "    </tr>\n",
       "  </tbody>\n",
       "</table>\n",
       "</div>"
      ],
      "text/plain": [
       "            radius       weight\n",
       "count  5686.000000  5686.000000\n",
       "mean    202.627682    33.012487\n",
       "std     350.213032    13.379082\n",
       "min       1.000000     0.000000\n",
       "25%      38.000000    23.000000\n",
       "50%     129.000000    27.000000\n",
       "75%     259.000000    40.000000\n",
       "max    3500.000000   102.000000"
      ]
     },
     "execution_count": 11,
     "metadata": {},
     "output_type": "execute_result"
    }
   ],
   "source": [
    "train.describe()"
   ]
  },
  {
   "cell_type": "markdown",
   "metadata": {},
   "source": [
    "### Apart from radius and weight, all other variables are qualitative in nature. "
   ]
  },
  {
   "cell_type": "code",
   "execution_count": 13,
   "metadata": {},
   "outputs": [
    {
     "data": {
      "text/plain": [
       "class                       0\n",
       "cap-shape                   0\n",
       "cap-surface                 0\n",
       "cap-color                   0\n",
       "bruises                     0\n",
       "odor                        0\n",
       "gill-attachment             0\n",
       "gill-spacing                0\n",
       "gill-size                   0\n",
       "gill-color                  0\n",
       "stalk-shape                 0\n",
       "stalk-root                  0\n",
       "radius                      0\n",
       "stalk-surface-above-ring    0\n",
       "stalk-surface-below-ring    0\n",
       "stalk-color-above-ring      0\n",
       "stalk-color-below-ring      0\n",
       "veil-type                   0\n",
       "veil-color                  0\n",
       "weight                      0\n",
       "ring-number                 0\n",
       "ring-type                   0\n",
       "spore-print-color           0\n",
       "population                  0\n",
       "habitat                     0\n",
       "dtype: int64"
      ]
     },
     "execution_count": 13,
     "metadata": {},
     "output_type": "execute_result"
    }
   ],
   "source": [
    "# let's see if there are any null values\n",
    "train.isnull().sum()"
   ]
  },
  {
   "cell_type": "markdown",
   "metadata": {},
   "source": [
    "#### luckily, data set is free from null values making our lives easier"
   ]
  },
  {
   "cell_type": "markdown",
   "metadata": {},
   "source": [
    "## Time for bivariate analysis with target variable as one of the two variables. To keep things simple and easy to understand, I will use crosstab for numerical visualization and mosaic chart for visual visaulization due to nature of target and independent variables. To aid to the information, I will use value counts."
   ]
  },
  {
   "cell_type": "code",
   "execution_count": 23,
   "metadata": {},
   "outputs": [
    {
     "data": {
      "text/plain": [
       "e    2945\n",
       "p    2741\n",
       "Name: class, dtype: int64"
      ]
     },
     "execution_count": 23,
     "metadata": {},
     "output_type": "execute_result"
    }
   ],
   "source": [
    "### lets start with target variable itself\n",
    "train['class'].value_counts()"
   ]
  },
  {
   "cell_type": "markdown",
   "metadata": {},
   "source": [
    "#### looks like a fair mix of poisonus and edible mushrooms species, a balanced data set"
   ]
  },
  {
   "cell_type": "code",
   "execution_count": 26,
   "metadata": {},
   "outputs": [
    {
     "data": {
      "text/plain": [
       "0.5179387970453746"
      ]
     },
     "execution_count": 26,
     "metadata": {},
     "output_type": "execute_result"
    }
   ],
   "source": [
    "baseline_accuracy = 2945/(2945+2741)\n",
    "baseline_accuracy"
   ]
  },
  {
   "cell_type": "code",
   "execution_count": 27,
   "metadata": {},
   "outputs": [
    {
     "data": {
      "text/plain": [
       "x    2578\n",
       "f    2179\n",
       "k     590\n",
       "b     312\n",
       "s      23\n",
       "c       4\n",
       "Name: cap-shape, dtype: int64"
      ]
     },
     "execution_count": 27,
     "metadata": {},
     "output_type": "execute_result"
    }
   ],
   "source": [
    "### analyzing cap-shape\n",
    "train['cap-shape'].value_counts()"
   ]
  },
  {
   "cell_type": "code",
   "execution_count": 33,
   "metadata": {},
   "outputs": [
    {
     "data": {
      "text/html": [
       "<div>\n",
       "<style>\n",
       "    .dataframe thead tr:only-child th {\n",
       "        text-align: right;\n",
       "    }\n",
       "\n",
       "    .dataframe thead th {\n",
       "        text-align: left;\n",
       "    }\n",
       "\n",
       "    .dataframe tbody tr th {\n",
       "        vertical-align: top;\n",
       "    }\n",
       "</style>\n",
       "<table border=\"1\" class=\"dataframe\">\n",
       "  <thead>\n",
       "    <tr style=\"text-align: right;\">\n",
       "      <th>class</th>\n",
       "      <th>e</th>\n",
       "      <th>p</th>\n",
       "    </tr>\n",
       "    <tr>\n",
       "      <th>cap-shape</th>\n",
       "      <th></th>\n",
       "      <th></th>\n",
       "    </tr>\n",
       "  </thead>\n",
       "  <tbody>\n",
       "    <tr>\n",
       "      <th>b</th>\n",
       "      <td>278</td>\n",
       "      <td>34</td>\n",
       "    </tr>\n",
       "    <tr>\n",
       "      <th>c</th>\n",
       "      <td>0</td>\n",
       "      <td>4</td>\n",
       "    </tr>\n",
       "    <tr>\n",
       "      <th>f</th>\n",
       "      <td>1094</td>\n",
       "      <td>1085</td>\n",
       "    </tr>\n",
       "    <tr>\n",
       "      <th>k</th>\n",
       "      <td>161</td>\n",
       "      <td>429</td>\n",
       "    </tr>\n",
       "    <tr>\n",
       "      <th>s</th>\n",
       "      <td>23</td>\n",
       "      <td>0</td>\n",
       "    </tr>\n",
       "    <tr>\n",
       "      <th>x</th>\n",
       "      <td>1389</td>\n",
       "      <td>1189</td>\n",
       "    </tr>\n",
       "  </tbody>\n",
       "</table>\n",
       "</div>"
      ],
      "text/plain": [
       "class         e     p\n",
       "cap-shape            \n",
       "b           278    34\n",
       "c             0     4\n",
       "f          1094  1085\n",
       "k           161   429\n",
       "s            23     0\n",
       "x          1389  1189"
      ]
     },
     "execution_count": 33,
     "metadata": {},
     "output_type": "execute_result"
    }
   ],
   "source": [
    "### lets have a look at the relation between target variable and cap-shape \n",
    "pd.DataFrame(pd.crosstab(train['cap-shape'],train['class']))"
   ]
  },
  {
   "cell_type": "code",
   "execution_count": 7,
   "metadata": {
    "collapsed": true
   },
   "outputs": [],
   "source": [
    "from statsmodels.graphics.mosaicplot import mosaic"
   ]
  },
  {
   "cell_type": "code",
   "execution_count": 55,
   "metadata": {},
   "outputs": [
    {
     "data": {
      "text/plain": [
       "(<matplotlib.figure.Figure at 0x1d5c0ca0390>,\n",
       " OrderedDict([(('f', 'p'),\n",
       "               (0.0, 0.0, 0.49628056394548381, 0.37387507184955776)),\n",
       "              (('f', 'e'),\n",
       "               (0.4996028230816964,\n",
       "                0.0,\n",
       "                0.50039717691830354,\n",
       "                0.37387507184955776)),\n",
       "              (('x', 'p'),\n",
       "               (0.0,\n",
       "                0.37875312063004557,\n",
       "                0.45967798056130454,\n",
       "                0.442335904189151)),\n",
       "              (('x', 'e'),\n",
       "               (0.46300023969751719,\n",
       "                0.37875312063004557,\n",
       "                0.53699976030248275,\n",
       "                0.442335904189151)),\n",
       "              (('b', 'p'),\n",
       "               (0.0,\n",
       "                0.8259670735996844,\n",
       "                0.10861231791464351,\n",
       "                0.053533282430960165)),\n",
       "              (('b', 'e'),\n",
       "               (0.11193457705085613,\n",
       "                0.8259670735996844,\n",
       "                0.88806542294914392,\n",
       "                0.053533282430960165)),\n",
       "              (('k', 'p'),\n",
       "               (0.0,\n",
       "                0.8843784048111323,\n",
       "                0.72470296750943175,\n",
       "                0.1012328097252129)),\n",
       "              (('k', 'e'),\n",
       "               (0.7280252266456444,\n",
       "                0.8843784048111323,\n",
       "                0.27197477335435555,\n",
       "                0.1012328097252129)),\n",
       "              (('s', 'p'),\n",
       "               (0.0, 0.990489263316833, 0.0, 0.0039463637689490395)),\n",
       "              (('s', 'e'),\n",
       "               (0.0033222591362126247,\n",
       "                0.990489263316833,\n",
       "                0.99667774086378735,\n",
       "                0.0039463637689490395)),\n",
       "              (('c', 'p'),\n",
       "               (0.0,\n",
       "                0.9993136758662697,\n",
       "                0.99667774086378735,\n",
       "                0.0006863241337302489)),\n",
       "              (('c', 'e'),\n",
       "               (1.0, 0.9993136758662697, 0.0, 0.0006863241337302489))]))"
      ]
     },
     "execution_count": 55,
     "metadata": {},
     "output_type": "execute_result"
    },
    {
     "data": {
      "image/png": "[encoded data removed]",
      "text/plain": [
       "<matplotlib.figure.Figure at 0x1d5c0ca0390>"
      ]
     },
     "metadata": {},
     "output_type": "display_data"
    }
   ],
   "source": [
    "\n",
    "mosaic(train,['cap-shape','class'],horizontal=False)"
   ]
  },
  {
   "cell_type": "markdown",
   "metadata": {},
   "source": [
    "### clearly, cap-shape has a significant effect on the traget variable"
   ]
  },
  {
   "cell_type": "code",
   "execution_count": 41,
   "metadata": {},
   "outputs": [
    {
     "data": {
      "text/plain": [
       "y    2295\n",
       "s    1763\n",
       "f    1624\n",
       "g       4\n",
       "Name: cap-surface, dtype: int64"
      ]
     },
     "execution_count": 41,
     "metadata": {},
     "output_type": "execute_result"
    }
   ],
   "source": [
    "#### lets repeat the same exercise for each categorical variable to make a rough inference about its impact on target variable\n",
    "train['cap-surface'].value_counts()"
   ]
  },
  {
   "cell_type": "code",
   "execution_count": 42,
   "metadata": {},
   "outputs": [
    {
     "data": {
      "text/html": [
       "<div>\n",
       "<style>\n",
       "    .dataframe thead tr:only-child th {\n",
       "        text-align: right;\n",
       "    }\n",
       "\n",
       "    .dataframe thead th {\n",
       "        text-align: left;\n",
       "    }\n",
       "\n",
       "    .dataframe tbody tr th {\n",
       "        vertical-align: top;\n",
       "    }\n",
       "</style>\n",
       "<table border=\"1\" class=\"dataframe\">\n",
       "  <thead>\n",
       "    <tr style=\"text-align: right;\">\n",
       "      <th>class</th>\n",
       "      <th>e</th>\n",
       "      <th>p</th>\n",
       "    </tr>\n",
       "    <tr>\n",
       "      <th>cap-surface</th>\n",
       "      <th></th>\n",
       "      <th></th>\n",
       "    </tr>\n",
       "  </thead>\n",
       "  <tbody>\n",
       "    <tr>\n",
       "      <th>f</th>\n",
       "      <td>1090</td>\n",
       "      <td>534</td>\n",
       "    </tr>\n",
       "    <tr>\n",
       "      <th>g</th>\n",
       "      <td>0</td>\n",
       "      <td>4</td>\n",
       "    </tr>\n",
       "    <tr>\n",
       "      <th>s</th>\n",
       "      <td>790</td>\n",
       "      <td>973</td>\n",
       "    </tr>\n",
       "    <tr>\n",
       "      <th>y</th>\n",
       "      <td>1065</td>\n",
       "      <td>1230</td>\n",
       "    </tr>\n",
       "  </tbody>\n",
       "</table>\n",
       "</div>"
      ],
      "text/plain": [
       "class           e     p\n",
       "cap-surface            \n",
       "f            1090   534\n",
       "g               0     4\n",
       "s             790   973\n",
       "y            1065  1230"
      ]
     },
     "execution_count": 42,
     "metadata": {},
     "output_type": "execute_result"
    }
   ],
   "source": [
    "pd.DataFrame(pd.crosstab(train['cap-surface'],train['class']))"
   ]
  },
  {
   "cell_type": "code",
   "execution_count": 56,
   "metadata": {},
   "outputs": [
    {
     "data": {
      "text/plain": [
       "(<matplotlib.figure.Figure at 0x1d5c0ca0a90>,\n",
       " OrderedDict([(('s', 'p'),\n",
       "               (0.0, 0.0, 0.55006661478188601, 0.30547763151739044)),\n",
       "              (('s', 'e'),\n",
       "               (0.55338887391809854,\n",
       "                0.0,\n",
       "                0.44661112608190129,\n",
       "                0.30547763151739044)),\n",
       "              (('y', 'p'),\n",
       "               (0.0,\n",
       "                0.31040373989177467,\n",
       "                0.53416715523418667,\n",
       "                0.39765806258219566)),\n",
       "              (('y', 'e'),\n",
       "               (0.53748941437039921,\n",
       "                0.31040373989177467,\n",
       "                0.46251058562960068,\n",
       "                0.39765806258219566)),\n",
       "              (('f', 'p'),\n",
       "               (0.0,\n",
       "                0.7129879108483546,\n",
       "                0.32772531626925028,\n",
       "                0.28139289482940566)),\n",
       "              (('f', 'e'),\n",
       "               (0.33104757540546292,\n",
       "                0.7129879108483546,\n",
       "                0.66895242459453708,\n",
       "                0.28139289482940566)),\n",
       "              (('g', 'p'),\n",
       "               (0.0,\n",
       "                0.9993069140521443,\n",
       "                0.99667774086378735,\n",
       "                0.00069308594785567)),\n",
       "              (('g', 'e'),\n",
       "               (1.0, 0.9993069140521443, 0.0, 0.00069308594785567))]))"
      ]
     },
     "execution_count": 56,
     "metadata": {},
     "output_type": "execute_result"
    },
    {
     "data": {
      "image/png": "[encoded data removed]",
      "text/plain": [
       "<matplotlib.figure.Figure at 0x1d5c0ca0a90>"
      ]
     },
     "metadata": {},
     "output_type": "display_data"
    }
   ],
   "source": [
    "mosaic(train,['cap-surface','class'],horizontal=False)"
   ]
  },
  {
   "cell_type": "markdown",
   "metadata": {},
   "source": [
    "##### rough surface of type 'f' is edible most of the times while type 'g' is always poisonous. Other two are almost neutral."
   ]
  },
  {
   "cell_type": "code",
   "execution_count": 44,
   "metadata": {},
   "outputs": [
    {
     "data": {
      "text/plain": [
       "n    1600\n",
       "g    1292\n",
       "e    1050\n",
       "y     756\n",
       "w     720\n",
       "b     112\n",
       "p     104\n",
       "c      32\n",
       "u      12\n",
       "r       8\n",
       "Name: cap-color, dtype: int64"
      ]
     },
     "execution_count": 44,
     "metadata": {},
     "output_type": "execute_result"
    }
   ],
   "source": [
    "train['cap-color'].value_counts()"
   ]
  },
  {
   "cell_type": "code",
   "execution_count": 57,
   "metadata": {},
   "outputs": [
    {
     "data": {
      "text/plain": [
       "(<matplotlib.figure.Figure at 0x1d5c0bb9748>,\n",
       " OrderedDict([(('e', 'p'),\n",
       "               (0.0, 0.0, 0.56668248694826773, 0.17671204519789224)),\n",
       "              (('e', 'e'),\n",
       "               (0.57000474608448026,\n",
       "                0.0,\n",
       "                0.42999525391551963,\n",
       "                0.17671204519789224)),\n",
       "              (('w', 'p'),\n",
       "               (0.0,\n",
       "                0.18149673419310758,\n",
       "                0.30869324473975635,\n",
       "                0.12117397384998327)),\n",
       "              (('w', 'e'),\n",
       "               (0.31201550387596899,\n",
       "                0.18149673419310758,\n",
       "                0.6879844961240309,\n",
       "                0.12117397384998327)),\n",
       "              (('n', 'p'),\n",
       "               (0.0,\n",
       "                0.30745539703830616,\n",
       "                0.45348837209302323,\n",
       "                0.2692754974444073)),\n",
       "              (('n', 'e'),\n",
       "               (0.45681063122923588,\n",
       "                0.30745539703830616,\n",
       "                0.54318936877076396,\n",
       "                0.2692754974444073)),\n",
       "              (('y', 'p'),\n",
       "               (0.0,\n",
       "                0.5815155834779288,\n",
       "                0.63281126404049981,\n",
       "                0.1272326725424824)),\n",
       "              (('y', 'e'),\n",
       "               (0.63613352317671246,\n",
       "                0.5815155834779288,\n",
       "                0.36386647682328749,\n",
       "                0.1272326725424824)),\n",
       "              (('g', 'p'),\n",
       "               (0.0,\n",
       "                0.7135329450156265,\n",
       "                0.43508223362784521,\n",
       "                0.21743996418635886)),\n",
       "              (('g', 'e'),\n",
       "               (0.43840449276405785,\n",
       "                0.7135329450156265,\n",
       "                0.56159550723594209,\n",
       "                0.21743996418635886)),\n",
       "              (('b', 'p'),\n",
       "               (0.0,\n",
       "                0.9357575981972007,\n",
       "                0.70301376364499291,\n",
       "                0.01884928482110848)),\n",
       "              (('b', 'e'),\n",
       "               (0.70633602278120544,\n",
       "                0.9357575981972007,\n",
       "                0.29366397721879445,\n",
       "                0.01884928482110848)),\n",
       "              (('p', 'p'),\n",
       "               (0.0,\n",
       "                0.9593915720135243,\n",
       "                0.59417326859187314,\n",
       "                0.01750290733388646)),\n",
       "              (('p', 'e'),\n",
       "               (0.59749552772808578,\n",
       "                0.9593915720135243,\n",
       "                0.4025044722719141,\n",
       "                0.01750290733388646)),\n",
       "              (('r', 'p'),\n",
       "               (0.0, 0.9816791683426263, 0.0, 0.0013463774872220192)),\n",
       "              (('r', 'e'),\n",
       "               (0.0033222591362126247,\n",
       "                0.9816791683426263,\n",
       "                0.99667774086378735,\n",
       "                0.0013463774872220192)),\n",
       "              (('u', 'p'),\n",
       "               (0.0, 0.9878102348250635, 0.0, 0.002019566230833029)),\n",
       "              (('u', 'e'),\n",
       "               (0.0033222591362126247,\n",
       "                0.9878102348250635,\n",
       "                0.99667774086378735,\n",
       "                0.002019566230833029)),\n",
       "              (('c', 'p'),\n",
       "               (0.0,\n",
       "                0.9946144900511119,\n",
       "                0.24916943521594684,\n",
       "                0.0053855099488881834)),\n",
       "              (('c', 'e'),\n",
       "               (0.25249169435215946,\n",
       "                0.9946144900511119,\n",
       "                0.74750830564784043,\n",
       "                0.0053855099488881834))]))"
      ]
     },
     "execution_count": 57,
     "metadata": {},
     "output_type": "execute_result"
    },
    {
     "data": {
      "image/png": "[encoded data removed]",
      "text/plain": [
       "<matplotlib.figure.Figure at 0x1d5c0bb9748>"
      ]
     },
     "metadata": {},
     "output_type": "display_data"
    }
   ],
   "source": [
    "mosaic(train,['cap-color','class'],horizontal=False)"
   ]
  },
  {
   "cell_type": "code",
   "execution_count": 58,
   "metadata": {},
   "outputs": [
    {
     "data": {
      "text/html": [
       "<div>\n",
       "<style>\n",
       "    .dataframe thead tr:only-child th {\n",
       "        text-align: right;\n",
       "    }\n",
       "\n",
       "    .dataframe thead th {\n",
       "        text-align: left;\n",
       "    }\n",
       "\n",
       "    .dataframe tbody tr th {\n",
       "        vertical-align: top;\n",
       "    }\n",
       "</style>\n",
       "<table border=\"1\" class=\"dataframe\">\n",
       "  <thead>\n",
       "    <tr style=\"text-align: right;\">\n",
       "      <th>class</th>\n",
       "      <th>e</th>\n",
       "      <th>p</th>\n",
       "    </tr>\n",
       "    <tr>\n",
       "      <th>cap-color</th>\n",
       "      <th></th>\n",
       "      <th></th>\n",
       "    </tr>\n",
       "  </thead>\n",
       "  <tbody>\n",
       "    <tr>\n",
       "      <th>b</th>\n",
       "      <td>33</td>\n",
       "      <td>79</td>\n",
       "    </tr>\n",
       "    <tr>\n",
       "      <th>c</th>\n",
       "      <td>24</td>\n",
       "      <td>8</td>\n",
       "    </tr>\n",
       "    <tr>\n",
       "      <th>e</th>\n",
       "      <td>453</td>\n",
       "      <td>597</td>\n",
       "    </tr>\n",
       "    <tr>\n",
       "      <th>g</th>\n",
       "      <td>728</td>\n",
       "      <td>564</td>\n",
       "    </tr>\n",
       "    <tr>\n",
       "      <th>n</th>\n",
       "      <td>872</td>\n",
       "      <td>728</td>\n",
       "    </tr>\n",
       "    <tr>\n",
       "      <th>p</th>\n",
       "      <td>42</td>\n",
       "      <td>62</td>\n",
       "    </tr>\n",
       "    <tr>\n",
       "      <th>r</th>\n",
       "      <td>8</td>\n",
       "      <td>0</td>\n",
       "    </tr>\n",
       "    <tr>\n",
       "      <th>u</th>\n",
       "      <td>12</td>\n",
       "      <td>0</td>\n",
       "    </tr>\n",
       "    <tr>\n",
       "      <th>w</th>\n",
       "      <td>497</td>\n",
       "      <td>223</td>\n",
       "    </tr>\n",
       "    <tr>\n",
       "      <th>y</th>\n",
       "      <td>276</td>\n",
       "      <td>480</td>\n",
       "    </tr>\n",
       "  </tbody>\n",
       "</table>\n",
       "</div>"
      ],
      "text/plain": [
       "class        e    p\n",
       "cap-color          \n",
       "b           33   79\n",
       "c           24    8\n",
       "e          453  597\n",
       "g          728  564\n",
       "n          872  728\n",
       "p           42   62\n",
       "r            8    0\n",
       "u           12    0\n",
       "w          497  223\n",
       "y          276  480"
      ]
     },
     "execution_count": 58,
     "metadata": {},
     "output_type": "execute_result"
    }
   ],
   "source": [
    "pd.DataFrame(pd.crosstab(train['cap-color'],train['class']))"
   ]
  },
  {
   "cell_type": "code",
   "execution_count": 59,
   "metadata": {},
   "outputs": [
    {
     "data": {
      "text/plain": [
       "f    3298\n",
       "t    2388\n",
       "Name: bruises, dtype: int64"
      ]
     },
     "execution_count": 59,
     "metadata": {},
     "output_type": "execute_result"
    }
   ],
   "source": [
    "train.bruises.value_counts()"
   ]
  },
  {
   "cell_type": "code",
   "execution_count": 60,
   "metadata": {},
   "outputs": [
    {
     "data": {
      "text/plain": [
       "(<matplotlib.figure.Figure at 0x1d5c1140cf8>,\n",
       " OrderedDict([(('f', 'p'), (0.0, 0.0, 0.69326220058869858, 0.57713542733046)),\n",
       "              (('f', 'e'),\n",
       "               (0.69658445972491123,\n",
       "                0.0,\n",
       "                0.30341554027508871,\n",
       "                0.57713542733046)),\n",
       "              (('t', 'p'),\n",
       "               (0.0,\n",
       "                0.5821105517085694,\n",
       "                0.18656404948329688,\n",
       "                0.4178894482914307)),\n",
       "              (('t', 'e'),\n",
       "               (0.1898863086195095,\n",
       "                0.5821105517085694,\n",
       "                0.81011369138049039,\n",
       "                0.4178894482914307))]))"
      ]
     },
     "execution_count": 60,
     "metadata": {},
     "output_type": "execute_result"
    },
    {
     "data": {
      "image/png": "[encoded data removed]",
      "text/plain": [
       "<matplotlib.figure.Figure at 0x1d5c1140cf8>"
      ]
     },
     "metadata": {},
     "output_type": "display_data"
    }
   ],
   "source": [
    "mosaic(train,['bruises','class'],horizontal=False)"
   ]
  },
  {
   "cell_type": "markdown",
   "metadata": {},
   "source": [
    "type 'f' is dominantly poisonous while type type 't' is edible most of the times"
   ]
  },
  {
   "cell_type": "code",
   "execution_count": 67,
   "metadata": {},
   "outputs": [
    {
     "data": {
      "text/plain": [
       "n    2487\n",
       "f    1501\n",
       "s     411\n",
       "y     398\n",
       "l     280\n",
       "a     270\n",
       "p     188\n",
       "c     127\n",
       "m      24\n",
       "Name: odor, dtype: int64"
      ]
     },
     "execution_count": 67,
     "metadata": {},
     "output_type": "execute_result"
    }
   ],
   "source": [
    "train['odor'].value_counts()"
   ]
  },
  {
   "cell_type": "code",
   "execution_count": 62,
   "metadata": {},
   "outputs": [
    {
     "data": {
      "text/plain": [
       "(<matplotlib.figure.Figure at 0x1d5c22a6a20>,\n",
       " OrderedDict([(('s', 'p'),\n",
       "               (0.0, 0.0, 0.99667774086378735, 0.06950269217240726)),\n",
       "              (('s', 'e'), (1.0, 0.0, 0.0, 0.06950269217240726)),\n",
       "              (('p', 'p'),\n",
       "               (0.0,\n",
       "                0.07431038448009958,\n",
       "                0.99667774086378735,\n",
       "                0.031791985713899185)),\n",
       "              (('p', 'e'),\n",
       "               (1.0, 0.07431038448009958, 0.0, 0.031791985713899185)),\n",
       "              (('n', 'p'),\n",
       "               (0.0,\n",
       "                0.11091006250169105,\n",
       "                0.036869462066533347,\n",
       "                0.4205673854812089)),\n",
       "              (('n', 'e'),\n",
       "               (0.040191721202745972,\n",
       "                0.11091006250169105,\n",
       "                0.95980827879725394,\n",
       "                0.4205673854812089)),\n",
       "              (('y', 'p'),\n",
       "               (0.0,\n",
       "                0.5362851402905923,\n",
       "                0.99667774086378735,\n",
       "                0.06730431018155253)),\n",
       "              (('y', 'e'),\n",
       "               (1.0, 0.5362851402905923, 0.0, 0.06730431018155253)),\n",
       "              (('l', 'p'),\n",
       "               (0.0, 0.6083971427798371, 0.0, 0.047349765956871064)),\n",
       "              (('l', 'e'),\n",
       "               (0.0033222591362126247,\n",
       "                0.6083971427798371,\n",
       "                0.99667774086378735,\n",
       "                0.047349765956871064)),\n",
       "              (('f', 'p'),\n",
       "               (0.0,\n",
       "                0.6605546010444004,\n",
       "                0.99667774086378735,\n",
       "                0.2538285667902271)),\n",
       "              (('f', 'e'), (1.0, 0.6605546010444004, 0.0, 0.2538285667902271)),\n",
       "              (('c', 'p'),\n",
       "               (0.0,\n",
       "                0.9191908601423199,\n",
       "                0.99667774086378735,\n",
       "                0.021476500987580773)),\n",
       "              (('c', 'e'),\n",
       "               (1.0, 0.9191908601423199, 0.0, 0.021476500987580773)),\n",
       "              (('m', 'p'),\n",
       "               (0.0,\n",
       "                0.945475053437593,\n",
       "                0.99667774086378735,\n",
       "                0.004058551367731866)),\n",
       "              (('m', 'e'),\n",
       "               (1.0, 0.945475053437593, 0.0, 0.004058551367731866)),\n",
       "              (('a', 'p'),\n",
       "               (0.0, 0.9543412971130172, 0.0, 0.04565870288698283)),\n",
       "              (('a', 'e'),\n",
       "               (0.0033222591362126247,\n",
       "                0.9543412971130172,\n",
       "                0.99667774086378735,\n",
       "                0.04565870288698283))]))"
      ]
     },
     "execution_count": 62,
     "metadata": {},
     "output_type": "execute_result"
    },
    {
     "data": {
      "image/png": "[encoded data removed]",
      "text/plain": [
       "<matplotlib.figure.Figure at 0x1d5c22a6a20>"
      ]
     },
     "metadata": {},
     "output_type": "display_data"
    }
   ],
   "source": [
    "mosaic(train,['odor','class'],horizontal=False)"
   ]
  },
  {
   "cell_type": "code",
   "execution_count": 64,
   "metadata": {},
   "outputs": [
    {
     "data": {
      "text/html": [
       "<div>\n",
       "<style>\n",
       "    .dataframe thead tr:only-child th {\n",
       "        text-align: right;\n",
       "    }\n",
       "\n",
       "    .dataframe thead th {\n",
       "        text-align: left;\n",
       "    }\n",
       "\n",
       "    .dataframe tbody tr th {\n",
       "        vertical-align: top;\n",
       "    }\n",
       "</style>\n",
       "<table border=\"1\" class=\"dataframe\">\n",
       "  <thead>\n",
       "    <tr style=\"text-align: right;\">\n",
       "      <th>class</th>\n",
       "      <th>e</th>\n",
       "      <th>p</th>\n",
       "    </tr>\n",
       "    <tr>\n",
       "      <th>odor</th>\n",
       "      <th></th>\n",
       "      <th></th>\n",
       "    </tr>\n",
       "  </thead>\n",
       "  <tbody>\n",
       "    <tr>\n",
       "      <th>a</th>\n",
       "      <td>270</td>\n",
       "      <td>0</td>\n",
       "    </tr>\n",
       "    <tr>\n",
       "      <th>c</th>\n",
       "      <td>0</td>\n",
       "      <td>127</td>\n",
       "    </tr>\n",
       "    <tr>\n",
       "      <th>f</th>\n",
       "      <td>0</td>\n",
       "      <td>1501</td>\n",
       "    </tr>\n",
       "    <tr>\n",
       "      <th>l</th>\n",
       "      <td>280</td>\n",
       "      <td>0</td>\n",
       "    </tr>\n",
       "    <tr>\n",
       "      <th>m</th>\n",
       "      <td>0</td>\n",
       "      <td>24</td>\n",
       "    </tr>\n",
       "    <tr>\n",
       "      <th>n</th>\n",
       "      <td>2395</td>\n",
       "      <td>92</td>\n",
       "    </tr>\n",
       "    <tr>\n",
       "      <th>p</th>\n",
       "      <td>0</td>\n",
       "      <td>188</td>\n",
       "    </tr>\n",
       "    <tr>\n",
       "      <th>s</th>\n",
       "      <td>0</td>\n",
       "      <td>411</td>\n",
       "    </tr>\n",
       "    <tr>\n",
       "      <th>y</th>\n",
       "      <td>0</td>\n",
       "      <td>398</td>\n",
       "    </tr>\n",
       "  </tbody>\n",
       "</table>\n",
       "</div>"
      ],
      "text/plain": [
       "class     e     p\n",
       "odor             \n",
       "a       270     0\n",
       "c         0   127\n",
       "f         0  1501\n",
       "l       280     0\n",
       "m         0    24\n",
       "n      2395    92\n",
       "p         0   188\n",
       "s         0   411\n",
       "y         0   398"
      ]
     },
     "execution_count": 64,
     "metadata": {},
     "output_type": "execute_result"
    }
   ],
   "source": [
    "pd.crosstab(train['odor'],train['class'])"
   ]
  },
  {
   "cell_type": "code",
   "execution_count": 68,
   "metadata": {},
   "outputs": [
    {
     "data": {
      "text/plain": [
       "f    5552\n",
       "a     134\n",
       "Name: gill-attachment, dtype: int64"
      ]
     },
     "execution_count": 68,
     "metadata": {},
     "output_type": "execute_result"
    }
   ],
   "source": [
    "train['gill-attachment'].value_counts()"
   ]
  },
  {
   "cell_type": "code",
   "execution_count": 69,
   "metadata": {},
   "outputs": [
    {
     "data": {
      "text/html": [
       "<div>\n",
       "<style>\n",
       "    .dataframe thead tr:only-child th {\n",
       "        text-align: right;\n",
       "    }\n",
       "\n",
       "    .dataframe thead th {\n",
       "        text-align: left;\n",
       "    }\n",
       "\n",
       "    .dataframe tbody tr th {\n",
       "        vertical-align: top;\n",
       "    }\n",
       "</style>\n",
       "<table border=\"1\" class=\"dataframe\">\n",
       "  <thead>\n",
       "    <tr style=\"text-align: right;\">\n",
       "      <th>class</th>\n",
       "      <th>e</th>\n",
       "      <th>p</th>\n",
       "    </tr>\n",
       "    <tr>\n",
       "      <th>gill-attachment</th>\n",
       "      <th></th>\n",
       "      <th></th>\n",
       "    </tr>\n",
       "  </thead>\n",
       "  <tbody>\n",
       "    <tr>\n",
       "      <th>a</th>\n",
       "      <td>121</td>\n",
       "      <td>13</td>\n",
       "    </tr>\n",
       "    <tr>\n",
       "      <th>f</th>\n",
       "      <td>2824</td>\n",
       "      <td>2728</td>\n",
       "    </tr>\n",
       "  </tbody>\n",
       "</table>\n",
       "</div>"
      ],
      "text/plain": [
       "class               e     p\n",
       "gill-attachment            \n",
       "a                 121    13\n",
       "f                2824  2728"
      ]
     },
     "execution_count": 69,
     "metadata": {},
     "output_type": "execute_result"
    }
   ],
   "source": [
    "pd.crosstab(train['gill-attachment'],train['class'])"
   ]
  },
  {
   "cell_type": "code",
   "execution_count": 4,
   "metadata": {},
   "outputs": [
    {
     "data": {
      "text/plain": [
       "c    4769\n",
       "w     917\n",
       "Name: gill-spacing, dtype: int64"
      ]
     },
     "execution_count": 4,
     "metadata": {},
     "output_type": "execute_result"
    }
   ],
   "source": [
    "train['gill-spacing'].value_counts()"
   ]
  },
  {
   "cell_type": "code",
   "execution_count": 5,
   "metadata": {},
   "outputs": [
    {
     "data": {
      "text/html": [
       "<div>\n",
       "<style>\n",
       "    .dataframe thead tr:only-child th {\n",
       "        text-align: right;\n",
       "    }\n",
       "\n",
       "    .dataframe thead th {\n",
       "        text-align: left;\n",
       "    }\n",
       "\n",
       "    .dataframe tbody tr th {\n",
       "        vertical-align: top;\n",
       "    }\n",
       "</style>\n",
       "<table border=\"1\" class=\"dataframe\">\n",
       "  <thead>\n",
       "    <tr style=\"text-align: right;\">\n",
       "      <th>class</th>\n",
       "      <th>e</th>\n",
       "      <th>p</th>\n",
       "    </tr>\n",
       "    <tr>\n",
       "      <th>gill-spacing</th>\n",
       "      <th></th>\n",
       "      <th></th>\n",
       "    </tr>\n",
       "  </thead>\n",
       "  <tbody>\n",
       "    <tr>\n",
       "      <th>c</th>\n",
       "      <td>2106</td>\n",
       "      <td>2663</td>\n",
       "    </tr>\n",
       "    <tr>\n",
       "      <th>w</th>\n",
       "      <td>839</td>\n",
       "      <td>78</td>\n",
       "    </tr>\n",
       "  </tbody>\n",
       "</table>\n",
       "</div>"
      ],
      "text/plain": [
       "class            e     p\n",
       "gill-spacing            \n",
       "c             2106  2663\n",
       "w              839    78"
      ]
     },
     "execution_count": 5,
     "metadata": {},
     "output_type": "execute_result"
    }
   ],
   "source": [
    "pd.crosstab(train['gill-spacing'],train['class'])"
   ]
  },
  {
   "cell_type": "code",
   "execution_count": 8,
   "metadata": {},
   "outputs": [
    {
     "data": {
      "text/plain": [
       "(<matplotlib.figure.Figure at 0x15049a6a5f8>,\n",
       " OrderedDict([(('c', 'p'),\n",
       "               (0.0, 0.0, 0.55654284418541944, 0.8345539275133305)),\n",
       "              (('c', 'e'),\n",
       "               (0.55986510332163208,\n",
       "                0.0,\n",
       "                0.4401348966783678,\n",
       "                0.8345539275133305)),\n",
       "              (('w', 'p'),\n",
       "               (0.0,\n",
       "                0.8395290518914399,\n",
       "                0.084777386900082241,\n",
       "                0.16047094810856025)),\n",
       "              (('w', 'e'),\n",
       "               (0.08809964603629486,\n",
       "                0.8395290518914399,\n",
       "                0.91190035396370506,\n",
       "                0.16047094810856025))]))"
      ]
     },
     "execution_count": 8,
     "metadata": {},
     "output_type": "execute_result"
    },
    {
     "data": {
      "image/png": "[encoded data removed]",
      "text/plain": [
       "<matplotlib.figure.Figure at 0x15049a6a5f8>"
      ]
     },
     "metadata": {},
     "output_type": "display_data"
    }
   ],
   "source": [
    "mosaic(train,['gill-spacing','class'],horizontal=False)"
   ]
  },
  {
   "cell_type": "markdown",
   "metadata": {},
   "source": [
    "type 'w' is almost always edible although covers very small fraction of data."
   ]
  },
  {
   "cell_type": "code",
   "execution_count": 9,
   "metadata": {},
   "outputs": [
    {
     "data": {
      "text/plain": [
       "b    3929\n",
       "n    1757\n",
       "Name: gill-size, dtype: int64"
      ]
     },
     "execution_count": 9,
     "metadata": {},
     "output_type": "execute_result"
    }
   ],
   "source": [
    "train['gill-size'].value_counts()"
   ]
  },
  {
   "cell_type": "code",
   "execution_count": 10,
   "metadata": {},
   "outputs": [
    {
     "data": {
      "text/html": [
       "<div>\n",
       "<style>\n",
       "    .dataframe thead tr:only-child th {\n",
       "        text-align: right;\n",
       "    }\n",
       "\n",
       "    .dataframe thead th {\n",
       "        text-align: left;\n",
       "    }\n",
       "\n",
       "    .dataframe tbody tr th {\n",
       "        vertical-align: top;\n",
       "    }\n",
       "</style>\n",
       "<table border=\"1\" class=\"dataframe\">\n",
       "  <thead>\n",
       "    <tr style=\"text-align: right;\">\n",
       "      <th>class</th>\n",
       "      <th>e</th>\n",
       "      <th>p</th>\n",
       "    </tr>\n",
       "    <tr>\n",
       "      <th>gill-size</th>\n",
       "      <th></th>\n",
       "      <th></th>\n",
       "    </tr>\n",
       "  </thead>\n",
       "  <tbody>\n",
       "    <tr>\n",
       "      <th>b</th>\n",
       "      <td>2743</td>\n",
       "      <td>1186</td>\n",
       "    </tr>\n",
       "    <tr>\n",
       "      <th>n</th>\n",
       "      <td>202</td>\n",
       "      <td>1555</td>\n",
       "    </tr>\n",
       "  </tbody>\n",
       "</table>\n",
       "</div>"
      ],
      "text/plain": [
       "class         e     p\n",
       "gill-size            \n",
       "b          2743  1186\n",
       "n           202  1555"
      ]
     },
     "execution_count": 10,
     "metadata": {},
     "output_type": "execute_result"
    }
   ],
   "source": [
    "pd.crosstab(train['gill-size'],train['class'])"
   ]
  },
  {
   "cell_type": "code",
   "execution_count": 11,
   "metadata": {},
   "outputs": [
    {
     "data": {
      "text/plain": [
       "(<matplotlib.figure.Figure at 0x15049eec198>,\n",
       " OrderedDict([(('n', 'p'), (0.0, 0.0, 0.8820910000245813, 0.3074672364522796)),\n",
       "              (('n', 'e'),\n",
       "               (0.88541325916079383,\n",
       "                0.0,\n",
       "                0.11458674083920602,\n",
       "                0.3074672364522796)),\n",
       "              (('b', 'p'),\n",
       "               (0.0,\n",
       "                0.31244236083038907,\n",
       "                0.30085512870054765,\n",
       "                0.6875576391696111)),\n",
       "              (('b', 'e'),\n",
       "               (0.30417738783676029,\n",
       "                0.31244236083038907,\n",
       "                0.69582261216323971,\n",
       "                0.6875576391696111))]))"
      ]
     },
     "execution_count": 11,
     "metadata": {},
     "output_type": "execute_result"
    },
    {
     "data": {
      "image/png": "[encoded data removed]",
      "text/plain": [
       "<matplotlib.figure.Figure at 0x15049eec198>"
      ]
     },
     "metadata": {},
     "output_type": "display_data"
    }
   ],
   "source": [
    "mosaic(train,['gill-size','class'],horizontal=False)"
   ]
  },
  {
   "cell_type": "markdown",
   "metadata": {},
   "source": [
    "level 'b' is almost always edible while level 'n' is poisonous."
   ]
  },
  {
   "cell_type": "code",
   "execution_count": 12,
   "metadata": {},
   "outputs": [
    {
     "data": {
      "text/plain": [
       "b    1200\n",
       "p    1066\n",
       "w     844\n",
       "n     728\n",
       "h     530\n",
       "g     526\n",
       "u     341\n",
       "k     269\n",
       "e      70\n",
       "y      56\n",
       "o      39\n",
       "r      17\n",
       "Name: gill-color, dtype: int64"
      ]
     },
     "execution_count": 12,
     "metadata": {},
     "output_type": "execute_result"
    }
   ],
   "source": [
    "train['gill-color'].value_counts()"
   ]
  },
  {
   "cell_type": "code",
   "execution_count": 13,
   "metadata": {},
   "outputs": [
    {
     "data": {
      "text/plain": [
       "(<matplotlib.figure.Figure at 0x1504a0544e0>,\n",
       " OrderedDict([(('b', 'p'),\n",
       "               (0.0, 0.0, 0.99667774086378735, 0.2000423422957859)),\n",
       "              (('b', 'e'), (1.0, 0.0, 0.0, 0.2000423422957859)),\n",
       "              (('k', 'p'),\n",
       "               (0.0,\n",
       "                0.2047816787886769,\n",
       "                0.18525608566241397,\n",
       "                0.044842825064638686)),\n",
       "              (('k', 'e'),\n",
       "               (0.18857834479862659,\n",
       "                0.2047816787886769,\n",
       "                0.81142165520137333,\n",
       "                0.044842825064638686)),\n",
       "              (('e', 'p'),\n",
       "               (0.0, 0.25436384034620657, 0.0, 0.011669136633920855)),\n",
       "              (('e', 'e'),\n",
       "               (0.0033222591362126247,\n",
       "                0.25436384034620657,\n",
       "                0.99667774086378735,\n",
       "                0.011669136633920855)),\n",
       "              (('n', 'p'),\n",
       "               (0.0,\n",
       "                0.27077231347301844,\n",
       "                0.11363221496111862,\n",
       "                0.12135902099277678)),\n",
       "              (('n', 'e'),\n",
       "               (0.11695447409733124,\n",
       "                0.27077231347301844,\n",
       "                0.88304552590266883,\n",
       "                0.12135902099277678)),\n",
       "              (('h', 'p'),\n",
       "               (0.0,\n",
       "                0.3968706709586862,\n",
       "                0.71647965899830746,\n",
       "                0.0883520345139721)),\n",
       "              (('h', 'e'),\n",
       "               (0.71980191813451999,\n",
       "                0.3968706709586862,\n",
       "                0.2801980818654799,\n",
       "                0.0883520345139721)),\n",
       "              (('p', 'p'),\n",
       "               (0.0,\n",
       "                0.4899620419655493,\n",
       "                0.42634620059464073,\n",
       "                0.1777042807394231)),\n",
       "              (('p', 'e'),\n",
       "               (0.42966845973085338,\n",
       "                0.4899620419655493,\n",
       "                0.57033154026914645,\n",
       "                0.1777042807394231)),\n",
       "              (('u', 'p'),\n",
       "               (0.0,\n",
       "                0.6724056591978634,\n",
       "                0.084761450102785449,\n",
       "                0.056845365602385844)),\n",
       "              (('u', 'e'),\n",
       "               (0.088083709238998067,\n",
       "                0.6724056591978634,\n",
       "                0.911916290761002,\n",
       "                0.056845365602385844)),\n",
       "              (('g', 'p'),\n",
       "               (0.0,\n",
       "                0.7339903612931402,\n",
       "                0.65181966322650731,\n",
       "                0.08768522670631954)),\n",
       "              (('g', 'e'),\n",
       "               (0.65514192236271995,\n",
       "                0.7339903612931402,\n",
       "                0.34485807763727999,\n",
       "                0.08768522670631954)),\n",
       "              (('w', 'p'),\n",
       "               (0.0,\n",
       "                0.8264149244923508,\n",
       "                0.19602903434050795,\n",
       "                0.14069644741470277)),\n",
       "              (('w', 'e'),\n",
       "               (0.19935129347672056,\n",
       "                0.8264149244923508,\n",
       "                0.80064870652327935,\n",
       "                0.14069644741470277)),\n",
       "              (('y', 'p'),\n",
       "               (0.0,\n",
       "                0.9718507083999445,\n",
       "                0.26696725201708588,\n",
       "                0.009335309307136663)),\n",
       "              (('y', 'e'),\n",
       "               (0.27028951115329852,\n",
       "                0.9718507083999445,\n",
       "                0.72971048884670153,\n",
       "                0.009335309307136663)),\n",
       "              (('o', 'p'),\n",
       "               (0.0, 0.9859253541999722, 0.0, 0.006501376124613065)),\n",
       "              (('o', 'e'),\n",
       "               (0.0033222591362126247,\n",
       "                0.9859253541999722,\n",
       "                0.99667774086378735,\n",
       "                0.006501376124613065)),\n",
       "              (('r', 'p'),\n",
       "               (0.0,\n",
       "                0.9971660668174763,\n",
       "                0.99667774086378735,\n",
       "                0.002833933182523598)),\n",
       "              (('r', 'e'),\n",
       "               (1.0, 0.9971660668174763, 0.0, 0.002833933182523598))]))"
      ]
     },
     "execution_count": 13,
     "metadata": {},
     "output_type": "execute_result"
    },
    {
     "data": {
      "image/png": "[encoded data removed]",
      "text/plain": [
       "<matplotlib.figure.Figure at 0x1504a0544e0>"
      ]
     },
     "metadata": {},
     "output_type": "display_data"
    }
   ],
   "source": [
    "mosaic(train,['gill-color','class'],horizontal=False)"
   ]
  },
  {
   "cell_type": "code",
   "execution_count": 14,
   "metadata": {},
   "outputs": [
    {
     "data": {
      "text/html": [
       "<div>\n",
       "<style>\n",
       "    .dataframe thead tr:only-child th {\n",
       "        text-align: right;\n",
       "    }\n",
       "\n",
       "    .dataframe thead th {\n",
       "        text-align: left;\n",
       "    }\n",
       "\n",
       "    .dataframe tbody tr th {\n",
       "        vertical-align: top;\n",
       "    }\n",
       "</style>\n",
       "<table border=\"1\" class=\"dataframe\">\n",
       "  <thead>\n",
       "    <tr style=\"text-align: right;\">\n",
       "      <th>class</th>\n",
       "      <th>e</th>\n",
       "      <th>p</th>\n",
       "    </tr>\n",
       "    <tr>\n",
       "      <th>gill-color</th>\n",
       "      <th></th>\n",
       "      <th></th>\n",
       "    </tr>\n",
       "  </thead>\n",
       "  <tbody>\n",
       "    <tr>\n",
       "      <th>b</th>\n",
       "      <td>0</td>\n",
       "      <td>1200</td>\n",
       "    </tr>\n",
       "    <tr>\n",
       "      <th>e</th>\n",
       "      <td>70</td>\n",
       "      <td>0</td>\n",
       "    </tr>\n",
       "    <tr>\n",
       "      <th>g</th>\n",
       "      <td>182</td>\n",
       "      <td>344</td>\n",
       "    </tr>\n",
       "    <tr>\n",
       "      <th>h</th>\n",
       "      <td>149</td>\n",
       "      <td>381</td>\n",
       "    </tr>\n",
       "    <tr>\n",
       "      <th>k</th>\n",
       "      <td>219</td>\n",
       "      <td>50</td>\n",
       "    </tr>\n",
       "    <tr>\n",
       "      <th>n</th>\n",
       "      <td>645</td>\n",
       "      <td>83</td>\n",
       "    </tr>\n",
       "    <tr>\n",
       "      <th>o</th>\n",
       "      <td>39</td>\n",
       "      <td>0</td>\n",
       "    </tr>\n",
       "    <tr>\n",
       "      <th>p</th>\n",
       "      <td>610</td>\n",
       "      <td>456</td>\n",
       "    </tr>\n",
       "    <tr>\n",
       "      <th>r</th>\n",
       "      <td>0</td>\n",
       "      <td>17</td>\n",
       "    </tr>\n",
       "    <tr>\n",
       "      <th>u</th>\n",
       "      <td>312</td>\n",
       "      <td>29</td>\n",
       "    </tr>\n",
       "    <tr>\n",
       "      <th>w</th>\n",
       "      <td>678</td>\n",
       "      <td>166</td>\n",
       "    </tr>\n",
       "    <tr>\n",
       "      <th>y</th>\n",
       "      <td>41</td>\n",
       "      <td>15</td>\n",
       "    </tr>\n",
       "  </tbody>\n",
       "</table>\n",
       "</div>"
      ],
      "text/plain": [
       "class         e     p\n",
       "gill-color           \n",
       "b             0  1200\n",
       "e            70     0\n",
       "g           182   344\n",
       "h           149   381\n",
       "k           219    50\n",
       "n           645    83\n",
       "o            39     0\n",
       "p           610   456\n",
       "r             0    17\n",
       "u           312    29\n",
       "w           678   166\n",
       "y            41    15"
      ]
     },
     "execution_count": 14,
     "metadata": {},
     "output_type": "execute_result"
    }
   ],
   "source": [
    "pd.crosstab(train['gill-color'],train['class'])"
   ]
  },
  {
   "cell_type": "code",
   "execution_count": 15,
   "metadata": {},
   "outputs": [
    {
     "data": {
      "text/plain": [
       "t    3224\n",
       "e    2462\n",
       "Name: stalk-shape, dtype: int64"
      ]
     },
     "execution_count": 15,
     "metadata": {},
     "output_type": "execute_result"
    }
   ],
   "source": [
    "train['stalk-shape'].value_counts()"
   ]
  },
  {
   "cell_type": "code",
   "execution_count": 16,
   "metadata": {},
   "outputs": [
    {
     "data": {
      "text/plain": [
       "(<matplotlib.figure.Figure at 0x1504a373ef0>,\n",
       " OrderedDict([(('t', 'p'),\n",
       "               (0.0, 0.0, 0.43249136459939153, 0.5641857543097037)),\n",
       "              (('t', 'e'),\n",
       "               (0.43581362373560417,\n",
       "                0.0,\n",
       "                0.56418637626439572,\n",
       "                0.5641857543097037)),\n",
       "              (('e', 'p'),\n",
       "               (0.0,\n",
       "                0.5691608786878133,\n",
       "                0.54327438190056965,\n",
       "                0.4308391213121869)),\n",
       "              (('e', 'e'),\n",
       "               (0.54659664103678229,\n",
       "                0.5691608786878133,\n",
       "                0.4534033589632176,\n",
       "                0.4308391213121869))]))"
      ]
     },
     "execution_count": 16,
     "metadata": {},
     "output_type": "execute_result"
    },
    {
     "data": {
      "image/png": "[encoded data removed]",
      "text/plain": [
       "<matplotlib.figure.Figure at 0x1504a373ef0>"
      ]
     },
     "metadata": {},
     "output_type": "display_data"
    }
   ],
   "source": [
    "mosaic(train,['stalk-shape','class'],horizontal=False)"
   ]
  },
  {
   "cell_type": "code",
   "execution_count": 17,
   "metadata": {},
   "outputs": [
    {
     "data": {
      "text/html": [
       "<div>\n",
       "<style>\n",
       "    .dataframe thead tr:only-child th {\n",
       "        text-align: right;\n",
       "    }\n",
       "\n",
       "    .dataframe thead th {\n",
       "        text-align: left;\n",
       "    }\n",
       "\n",
       "    .dataframe tbody tr th {\n",
       "        vertical-align: top;\n",
       "    }\n",
       "</style>\n",
       "<table border=\"1\" class=\"dataframe\">\n",
       "  <thead>\n",
       "    <tr style=\"text-align: right;\">\n",
       "      <th>class</th>\n",
       "      <th>e</th>\n",
       "      <th>p</th>\n",
       "    </tr>\n",
       "    <tr>\n",
       "      <th>stalk-shape</th>\n",
       "      <th></th>\n",
       "      <th></th>\n",
       "    </tr>\n",
       "  </thead>\n",
       "  <tbody>\n",
       "    <tr>\n",
       "      <th>e</th>\n",
       "      <td>1120</td>\n",
       "      <td>1342</td>\n",
       "    </tr>\n",
       "    <tr>\n",
       "      <th>t</th>\n",
       "      <td>1825</td>\n",
       "      <td>1399</td>\n",
       "    </tr>\n",
       "  </tbody>\n",
       "</table>\n",
       "</div>"
      ],
      "text/plain": [
       "class           e     p\n",
       "stalk-shape            \n",
       "e            1120  1342\n",
       "t            1825  1399"
      ]
     },
     "execution_count": 17,
     "metadata": {},
     "output_type": "execute_result"
    }
   ],
   "source": [
    "pd.crosstab(train['stalk-shape'],train['class'])"
   ]
  },
  {
   "cell_type": "code",
   "execution_count": 19,
   "metadata": {},
   "outputs": [
    {
     "data": {
      "text/plain": [
       "b    2665\n",
       "?    1727\n",
       "e     780\n",
       "c     382\n",
       "r     132\n",
       "Name: stalk-root, dtype: int64"
      ]
     },
     "execution_count": 19,
     "metadata": {},
     "output_type": "execute_result"
    }
   ],
   "source": [
    "train['stalk-root'].value_counts()"
   ]
  },
  {
   "cell_type": "code",
   "execution_count": 20,
   "metadata": {},
   "outputs": [
    {
     "data": {
      "text/html": [
       "<div>\n",
       "<style>\n",
       "    .dataframe thead tr:only-child th {\n",
       "        text-align: right;\n",
       "    }\n",
       "\n",
       "    .dataframe thead th {\n",
       "        text-align: left;\n",
       "    }\n",
       "\n",
       "    .dataframe tbody tr th {\n",
       "        vertical-align: top;\n",
       "    }\n",
       "</style>\n",
       "<table border=\"1\" class=\"dataframe\">\n",
       "  <thead>\n",
       "    <tr style=\"text-align: right;\">\n",
       "      <th>class</th>\n",
       "      <th>e</th>\n",
       "      <th>p</th>\n",
       "    </tr>\n",
       "    <tr>\n",
       "      <th>stalk-root</th>\n",
       "      <th></th>\n",
       "      <th></th>\n",
       "    </tr>\n",
       "  </thead>\n",
       "  <tbody>\n",
       "    <tr>\n",
       "      <th>?</th>\n",
       "      <td>503</td>\n",
       "      <td>1224</td>\n",
       "    </tr>\n",
       "    <tr>\n",
       "      <th>b</th>\n",
       "      <td>1368</td>\n",
       "      <td>1297</td>\n",
       "    </tr>\n",
       "    <tr>\n",
       "      <th>c</th>\n",
       "      <td>350</td>\n",
       "      <td>32</td>\n",
       "    </tr>\n",
       "    <tr>\n",
       "      <th>e</th>\n",
       "      <td>592</td>\n",
       "      <td>188</td>\n",
       "    </tr>\n",
       "    <tr>\n",
       "      <th>r</th>\n",
       "      <td>132</td>\n",
       "      <td>0</td>\n",
       "    </tr>\n",
       "  </tbody>\n",
       "</table>\n",
       "</div>"
      ],
      "text/plain": [
       "class          e     p\n",
       "stalk-root            \n",
       "?            503  1224\n",
       "b           1368  1297\n",
       "c            350    32\n",
       "e            592   188\n",
       "r            132     0"
      ]
     },
     "execution_count": 20,
     "metadata": {},
     "output_type": "execute_result"
    }
   ],
   "source": [
    "pd.crosstab(train['stalk-root'],train['class'])"
   ]
  },
  {
   "cell_type": "code",
   "execution_count": 21,
   "metadata": {},
   "outputs": [
    {
     "data": {
      "text/plain": [
       "(<matplotlib.figure.Figure at 0x1504a4e8ef0>,\n",
       " OrderedDict([(('?', 'p'),\n",
       "               (0.0, 0.0, 0.7063888562925742, 0.29777299593773493)),\n",
       "              (('?', 'e'),\n",
       "               (0.70971111542878684,\n",
       "                0.0,\n",
       "                0.2902888845712131,\n",
       "                0.29777299593773493)),\n",
       "              (('e', 'p'),\n",
       "               (0.0,\n",
       "                0.30267495672204864,\n",
       "                0.24022489138768208,\n",
       "                0.13448925120523064)),\n",
       "              (('e', 'e'),\n",
       "               (0.2435471505238947,\n",
       "                0.30267495672204864,\n",
       "                0.75645284947610525,\n",
       "                0.13448925120523064)),\n",
       "              (('c', 'p'),\n",
       "               (0.0,\n",
       "                0.442066168711593,\n",
       "                0.083491329077594753,\n",
       "                0.06586524866717702)),\n",
       "              (('c', 'e'),\n",
       "               (0.086813588213807372,\n",
       "                0.442066168711593,\n",
       "                0.91318641178619253,\n",
       "                0.06586524866717702)),\n",
       "              (('b', 'p'),\n",
       "               (0.0,\n",
       "                0.5128333781630837,\n",
       "                0.4850623001502184,\n",
       "                0.45950494161787114)),\n",
       "              (('b', 'e'),\n",
       "               (0.48838455928643104,\n",
       "                0.5128333781630837,\n",
       "                0.5116154407135689,\n",
       "                0.45950494161787114)),\n",
       "              (('r', 'p'),\n",
       "               (0.0, 0.9772402805652687, 0.0, 0.02275971943473137)),\n",
       "              (('r', 'e'),\n",
       "               (0.0033222591362126247,\n",
       "                0.9772402805652687,\n",
       "                0.99667774086378735,\n",
       "                0.02275971943473137))]))"
      ]
     },
     "execution_count": 21,
     "metadata": {},
     "output_type": "execute_result"
    },
    {
     "data": {
      "image/png": "[encoded data removed]",
      "text/plain": [
       "<matplotlib.figure.Figure at 0x1504a4e8ef0>"
      ]
     },
     "metadata": {},
     "output_type": "display_data"
    }
   ],
   "source": [
    "mosaic(train,['stalk-root','class'],horizontal=False)"
   ]
  },
  {
   "cell_type": "code",
   "execution_count": 22,
   "metadata": {},
   "outputs": [
    {
     "data": {
      "text/plain": [
       "s    3624\n",
       "k    1661\n",
       "f     380\n",
       "y      21\n",
       "Name: stalk-surface-above-ring, dtype: int64"
      ]
     },
     "execution_count": 22,
     "metadata": {},
     "output_type": "execute_result"
    }
   ],
   "source": [
    "train['stalk-surface-above-ring'].value_counts()"
   ]
  },
  {
   "cell_type": "code",
   "execution_count": 23,
   "metadata": {},
   "outputs": [
    {
     "data": {
      "text/html": [
       "<div>\n",
       "<style>\n",
       "    .dataframe thead tr:only-child th {\n",
       "        text-align: right;\n",
       "    }\n",
       "\n",
       "    .dataframe thead th {\n",
       "        text-align: left;\n",
       "    }\n",
       "\n",
       "    .dataframe tbody tr th {\n",
       "        vertical-align: top;\n",
       "    }\n",
       "</style>\n",
       "<table border=\"1\" class=\"dataframe\">\n",
       "  <thead>\n",
       "    <tr style=\"text-align: right;\">\n",
       "      <th>class</th>\n",
       "      <th>e</th>\n",
       "      <th>p</th>\n",
       "    </tr>\n",
       "    <tr>\n",
       "      <th>stalk-surface-above-ring</th>\n",
       "      <th></th>\n",
       "      <th></th>\n",
       "    </tr>\n",
       "  </thead>\n",
       "  <tbody>\n",
       "    <tr>\n",
       "      <th>f</th>\n",
       "      <td>278</td>\n",
       "      <td>102</td>\n",
       "    </tr>\n",
       "    <tr>\n",
       "      <th>k</th>\n",
       "      <td>101</td>\n",
       "      <td>1560</td>\n",
       "    </tr>\n",
       "    <tr>\n",
       "      <th>s</th>\n",
       "      <td>2553</td>\n",
       "      <td>1071</td>\n",
       "    </tr>\n",
       "    <tr>\n",
       "      <th>y</th>\n",
       "      <td>13</td>\n",
       "      <td>8</td>\n",
       "    </tr>\n",
       "  </tbody>\n",
       "</table>\n",
       "</div>"
      ],
      "text/plain": [
       "class                        e     p\n",
       "stalk-surface-above-ring            \n",
       "f                          278   102\n",
       "k                          101  1560\n",
       "s                         2553  1071\n",
       "y                           13     8"
      ]
     },
     "execution_count": 23,
     "metadata": {},
     "output_type": "execute_result"
    }
   ],
   "source": [
    "pd.crosstab(train['stalk-surface-above-ring'],train['class'])"
   ]
  },
  {
   "cell_type": "code",
   "execution_count": 24,
   "metadata": {},
   "outputs": [
    {
     "data": {
      "text/plain": [
       "(<matplotlib.figure.Figure at 0x1504a6bba90>,\n",
       " OrderedDict([(('s', 'p'),\n",
       "               (0.0, 0.0, 0.29454797474202982, 0.6279358687572448)),\n",
       "              (('s', 'e'),\n",
       "               (0.29787023387824246,\n",
       "                0.0,\n",
       "                0.70212976612175737,\n",
       "                0.6279358687572448)),\n",
       "              (('k', 'p'),\n",
       "               (0.0,\n",
       "                0.6328619771316291,\n",
       "                0.93607301369506812,\n",
       "                0.28780393984707053)),\n",
       "              (('k', 'e'),\n",
       "               (0.93939527283128077,\n",
       "                0.6328619771316291,\n",
       "                0.060604727168719161,\n",
       "                0.28780393984707053)),\n",
       "              (('f', 'p'),\n",
       "               (0.0,\n",
       "                0.9255920253530838,\n",
       "                0.26752928833712186,\n",
       "                0.06584316504628951)),\n",
       "              (('f', 'e'),\n",
       "               (0.27085154747333451,\n",
       "                0.9255920253530838,\n",
       "                0.72914845252666549,\n",
       "                0.06584316504628951)),\n",
       "              (('y', 'p'),\n",
       "               (0.0,\n",
       "                0.9963612987737577,\n",
       "                0.37968675842429989,\n",
       "                0.003638701226242267)),\n",
       "              (('y', 'e'),\n",
       "               (0.38300901756051253,\n",
       "                0.9963612987737577,\n",
       "                0.61699098243948736,\n",
       "                0.003638701226242267))]))"
      ]
     },
     "execution_count": 24,
     "metadata": {},
     "output_type": "execute_result"
    },
    {
     "data": {
      "image/png": "[encoded data removed]",
      "text/plain": [
       "<matplotlib.figure.Figure at 0x1504a6bba90>"
      ]
     },
     "metadata": {},
     "output_type": "display_data"
    }
   ],
   "source": [
    "mosaic(train,['stalk-surface-above-ring','class'],horizontal=False)"
   ]
  },
  {
   "cell_type": "code",
   "execution_count": 25,
   "metadata": {},
   "outputs": [
    {
     "data": {
      "text/plain": [
       "s    3463\n",
       "k    1614\n",
       "f     408\n",
       "y     201\n",
       "Name: stalk-surface-below-ring, dtype: int64"
      ]
     },
     "execution_count": 25,
     "metadata": {},
     "output_type": "execute_result"
    }
   ],
   "source": [
    "train['stalk-surface-below-ring'].value_counts()"
   ]
  },
  {
   "cell_type": "code",
   "execution_count": 26,
   "metadata": {},
   "outputs": [
    {
     "data": {
      "text/html": [
       "<div>\n",
       "<style>\n",
       "    .dataframe thead tr:only-child th {\n",
       "        text-align: right;\n",
       "    }\n",
       "\n",
       "    .dataframe thead th {\n",
       "        text-align: left;\n",
       "    }\n",
       "\n",
       "    .dataframe tbody tr th {\n",
       "        vertical-align: top;\n",
       "    }\n",
       "</style>\n",
       "<table border=\"1\" class=\"dataframe\">\n",
       "  <thead>\n",
       "    <tr style=\"text-align: right;\">\n",
       "      <th>class</th>\n",
       "      <th>e</th>\n",
       "      <th>p</th>\n",
       "    </tr>\n",
       "    <tr>\n",
       "      <th>stalk-surface-below-ring</th>\n",
       "      <th></th>\n",
       "      <th></th>\n",
       "    </tr>\n",
       "  </thead>\n",
       "  <tbody>\n",
       "    <tr>\n",
       "      <th>f</th>\n",
       "      <td>308</td>\n",
       "      <td>100</td>\n",
       "    </tr>\n",
       "    <tr>\n",
       "      <th>k</th>\n",
       "      <td>104</td>\n",
       "      <td>1510</td>\n",
       "    </tr>\n",
       "    <tr>\n",
       "      <th>s</th>\n",
       "      <td>2388</td>\n",
       "      <td>1075</td>\n",
       "    </tr>\n",
       "    <tr>\n",
       "      <th>y</th>\n",
       "      <td>145</td>\n",
       "      <td>56</td>\n",
       "    </tr>\n",
       "  </tbody>\n",
       "</table>\n",
       "</div>"
      ],
      "text/plain": [
       "class                        e     p\n",
       "stalk-surface-below-ring            \n",
       "f                          308   100\n",
       "k                          104  1510\n",
       "s                         2388  1075\n",
       "y                          145    56"
      ]
     },
     "execution_count": 26,
     "metadata": {},
     "output_type": "execute_result"
    }
   ],
   "source": [
    "pd.crosstab(train['stalk-surface-below-ring'],train['class'])"
   ]
  },
  {
   "cell_type": "code",
   "execution_count": 27,
   "metadata": {},
   "outputs": [
    {
     "data": {
      "text/plain": [
       "(<matplotlib.figure.Figure at 0x1504a943860>,\n",
       " OrderedDict([(('s', 'p'),\n",
       "               (0.0, 0.0, 0.29454797474202982, 0.6279358687572448)),\n",
       "              (('s', 'e'),\n",
       "               (0.29787023387824246,\n",
       "                0.0,\n",
       "                0.70212976612175737,\n",
       "                0.6279358687572448)),\n",
       "              (('k', 'p'),\n",
       "               (0.0,\n",
       "                0.6328619771316291,\n",
       "                0.93607301369506812,\n",
       "                0.28780393984707053)),\n",
       "              (('k', 'e'),\n",
       "               (0.93939527283128077,\n",
       "                0.6328619771316291,\n",
       "                0.060604727168719161,\n",
       "                0.28780393984707053)),\n",
       "              (('f', 'p'),\n",
       "               (0.0,\n",
       "                0.9255920253530838,\n",
       "                0.26752928833712186,\n",
       "                0.06584316504628951)),\n",
       "              (('f', 'e'),\n",
       "               (0.27085154747333451,\n",
       "                0.9255920253530838,\n",
       "                0.72914845252666549,\n",
       "                0.06584316504628951)),\n",
       "              (('y', 'p'),\n",
       "               (0.0,\n",
       "                0.9963612987737577,\n",
       "                0.37968675842429989,\n",
       "                0.003638701226242267)),\n",
       "              (('y', 'e'),\n",
       "               (0.38300901756051253,\n",
       "                0.9963612987737577,\n",
       "                0.61699098243948736,\n",
       "                0.003638701226242267))]))"
      ]
     },
     "execution_count": 27,
     "metadata": {},
     "output_type": "execute_result"
    },
    {
     "data": {
      "image/png": "[encoded data removed]",
      "text/plain": [
       "<matplotlib.figure.Figure at 0x1504a943860>"
      ]
     },
     "metadata": {},
     "output_type": "display_data"
    }
   ],
   "source": [
    "mosaic(train,['stalk-surface-above-ring','class'],horizontal=False)"
   ]
  },
  {
   "cell_type": "code",
   "execution_count": 28,
   "metadata": {},
   "outputs": [
    {
     "data": {
      "text/plain": [
       "w    3075\n",
       "p    1284\n",
       "g     424\n",
       "n     355\n",
       "b     313\n",
       "o     121\n",
       "e      69\n",
       "c      24\n",
       "y      21\n",
       "Name: stalk-color-below-ring, dtype: int64"
      ]
     },
     "execution_count": 28,
     "metadata": {},
     "output_type": "execute_result"
    }
   ],
   "source": [
    "train['stalk-color-below-ring'].value_counts()"
   ]
  },
  {
   "cell_type": "code",
   "execution_count": 29,
   "metadata": {},
   "outputs": [
    {
     "data": {
      "text/html": [
       "<div>\n",
       "<style>\n",
       "    .dataframe thead tr:only-child th {\n",
       "        text-align: right;\n",
       "    }\n",
       "\n",
       "    .dataframe thead th {\n",
       "        text-align: left;\n",
       "    }\n",
       "\n",
       "    .dataframe tbody tr th {\n",
       "        vertical-align: top;\n",
       "    }\n",
       "</style>\n",
       "<table border=\"1\" class=\"dataframe\">\n",
       "  <thead>\n",
       "    <tr style=\"text-align: right;\">\n",
       "      <th>class</th>\n",
       "      <th>e</th>\n",
       "      <th>p</th>\n",
       "    </tr>\n",
       "    <tr>\n",
       "      <th>stalk-color-below-ring</th>\n",
       "      <th></th>\n",
       "      <th></th>\n",
       "    </tr>\n",
       "  </thead>\n",
       "  <tbody>\n",
       "    <tr>\n",
       "      <th>b</th>\n",
       "      <td>0</td>\n",
       "      <td>313</td>\n",
       "    </tr>\n",
       "    <tr>\n",
       "      <th>c</th>\n",
       "      <td>0</td>\n",
       "      <td>24</td>\n",
       "    </tr>\n",
       "    <tr>\n",
       "      <th>e</th>\n",
       "      <td>69</td>\n",
       "      <td>0</td>\n",
       "    </tr>\n",
       "    <tr>\n",
       "      <th>g</th>\n",
       "      <td>424</td>\n",
       "      <td>0</td>\n",
       "    </tr>\n",
       "    <tr>\n",
       "      <th>n</th>\n",
       "      <td>48</td>\n",
       "      <td>307</td>\n",
       "    </tr>\n",
       "    <tr>\n",
       "      <th>o</th>\n",
       "      <td>121</td>\n",
       "      <td>0</td>\n",
       "    </tr>\n",
       "    <tr>\n",
       "      <th>p</th>\n",
       "      <td>397</td>\n",
       "      <td>887</td>\n",
       "    </tr>\n",
       "    <tr>\n",
       "      <th>w</th>\n",
       "      <td>1886</td>\n",
       "      <td>1189</td>\n",
       "    </tr>\n",
       "    <tr>\n",
       "      <th>y</th>\n",
       "      <td>0</td>\n",
       "      <td>21</td>\n",
       "    </tr>\n",
       "  </tbody>\n",
       "</table>\n",
       "</div>"
      ],
      "text/plain": [
       "class                      e     p\n",
       "stalk-color-below-ring            \n",
       "b                          0   313\n",
       "c                          0    24\n",
       "e                         69     0\n",
       "g                        424     0\n",
       "n                         48   307\n",
       "o                        121     0\n",
       "p                        397   887\n",
       "w                       1886  1189\n",
       "y                          0    21"
      ]
     },
     "execution_count": 29,
     "metadata": {},
     "output_type": "execute_result"
    }
   ],
   "source": [
    "pd.crosstab(train['stalk-color-below-ring'],train['class'])"
   ]
  },
  {
   "cell_type": "code",
   "execution_count": 31,
   "metadata": {},
   "outputs": [
    {
     "data": {
      "text/plain": [
       "(<matplotlib.figure.Figure at 0x1504bbb8eb8>,\n",
       " OrderedDict([(('w', 'p'),\n",
       "               (0.0, 0.0, 0.38538205980066442, 0.5200018939906383)),\n",
       "              (('w', 'e'),\n",
       "               (0.38870431893687707,\n",
       "                0.0,\n",
       "                0.61129568106312282,\n",
       "                0.5200018939906383)),\n",
       "              (('e', 'p'),\n",
       "               (0.0, 0.5248095862983306, 0.0, 0.011668335182228914)),\n",
       "              (('e', 'e'),\n",
       "               (0.0033222591362126247,\n",
       "                0.5248095862983306,\n",
       "                0.99667774086378735,\n",
       "                0.011668335182228914)),\n",
       "              (('n', 'p'),\n",
       "               (0.0,\n",
       "                0.5412856137882518,\n",
       "                0.86191568012727515,\n",
       "                0.06003273898103302)),\n",
       "              (('n', 'e'),\n",
       "               (0.8652379392634878,\n",
       "                0.5412856137882518,\n",
       "                0.13476206073651212,\n",
       "                0.06003273898103302)),\n",
       "              (('p', 'p'),\n",
       "               (0.0,\n",
       "                0.6061260450769772,\n",
       "                0.68851491911696205,\n",
       "                0.2171324981736519)),\n",
       "              (('p', 'e'),\n",
       "               (0.6918371782531747,\n",
       "                0.6061260450769772,\n",
       "                0.30816282174682519,\n",
       "                0.2171324981736519)),\n",
       "              (('b', 'p'),\n",
       "               (0.0,\n",
       "                0.8280662355583214,\n",
       "                0.99667774086378735,\n",
       "                0.05293027408750234)),\n",
       "              (('b', 'e'),\n",
       "               (1.0, 0.8280662355583214, 0.0, 0.05293027408750234)),\n",
       "              (('g', 'p'),\n",
       "               (0.0, 0.8858042019535161, 0.0, 0.07170107416326205)),\n",
       "              (('g', 'e'),\n",
       "               (0.0033222591362126247,\n",
       "                0.8858042019535161,\n",
       "                0.99667774086378735,\n",
       "                0.07170107416326205)),\n",
       "              (('c', 'p'),\n",
       "               (0.0,\n",
       "                0.9623129684244702,\n",
       "                0.99667774086378735,\n",
       "                0.00405855136773176)),\n",
       "              (('c', 'e'),\n",
       "               (1.0, 0.9623129684244702, 0.0, 0.00405855136773176)),\n",
       "              (('o', 'p'),\n",
       "               (0.0, 0.9711792120998944, 0.0, 0.020461863145647942)),\n",
       "              (('o', 'e'),\n",
       "               (0.0033222591362126247,\n",
       "                0.9711792120998944,\n",
       "                0.99667774086378735,\n",
       "                0.020461863145647942)),\n",
       "              (('y', 'p'),\n",
       "               (0.0,\n",
       "                0.9964487675532346,\n",
       "                0.99667774086378735,\n",
       "                0.0035512324467652893)),\n",
       "              (('y', 'e'),\n",
       "               (1.0, 0.9964487675532346, 0.0, 0.0035512324467652893))]))"
      ]
     },
     "execution_count": 31,
     "metadata": {},
     "output_type": "execute_result"
    },
    {
     "data": {
      "image/png": "[encoded data removed]",
      "text/plain": [
       "<matplotlib.figure.Figure at 0x1504bbb8eb8>"
      ]
     },
     "metadata": {},
     "output_type": "display_data"
    }
   ],
   "source": [
    "mosaic(train,['stalk-color-below-ring','class'],horizontal=False)"
   ]
  },
  {
   "cell_type": "code",
   "execution_count": 32,
   "metadata": {},
   "outputs": [
    {
     "data": {
      "text/plain": [
       "p    5686\n",
       "Name: veil-type, dtype: int64"
      ]
     },
     "execution_count": 32,
     "metadata": {},
     "output_type": "execute_result"
    }
   ],
   "source": [
    "train['veil-type'].value_counts()"
   ]
  },
  {
   "cell_type": "markdown",
   "metadata": {},
   "source": [
    "#### There is no point in keeping this variable in dataset or analyzing it because it has got only one level. So,it is drop the variable from training and test set right now."
   ]
  },
  {
   "cell_type": "code",
   "execution_count": 52,
   "metadata": {
    "collapsed": true
   },
   "outputs": [],
   "source": [
    "train.drop('veil-type',axis=1,inplace=True)\n",
    "test.drop('veil-type',axis=1,inplace=True)"
   ]
  },
  {
   "cell_type": "code",
   "execution_count": 33,
   "metadata": {},
   "outputs": [
    {
     "data": {
      "text/plain": [
       "w    5557\n",
       "n      70\n",
       "o      51\n",
       "y       8\n",
       "Name: veil-color, dtype: int64"
      ]
     },
     "execution_count": 33,
     "metadata": {},
     "output_type": "execute_result"
    }
   ],
   "source": [
    "train['veil-color'].value_counts()"
   ]
  },
  {
   "cell_type": "code",
   "execution_count": 34,
   "metadata": {},
   "outputs": [
    {
     "data": {
      "text/html": [
       "<div>\n",
       "<style>\n",
       "    .dataframe thead tr:only-child th {\n",
       "        text-align: right;\n",
       "    }\n",
       "\n",
       "    .dataframe thead th {\n",
       "        text-align: left;\n",
       "    }\n",
       "\n",
       "    .dataframe tbody tr th {\n",
       "        vertical-align: top;\n",
       "    }\n",
       "</style>\n",
       "<table border=\"1\" class=\"dataframe\">\n",
       "  <thead>\n",
       "    <tr style=\"text-align: right;\">\n",
       "      <th>class</th>\n",
       "      <th>e</th>\n",
       "      <th>p</th>\n",
       "    </tr>\n",
       "    <tr>\n",
       "      <th>veil-color</th>\n",
       "      <th></th>\n",
       "      <th></th>\n",
       "    </tr>\n",
       "  </thead>\n",
       "  <tbody>\n",
       "    <tr>\n",
       "      <th>n</th>\n",
       "      <td>70</td>\n",
       "      <td>0</td>\n",
       "    </tr>\n",
       "    <tr>\n",
       "      <th>o</th>\n",
       "      <td>51</td>\n",
       "      <td>0</td>\n",
       "    </tr>\n",
       "    <tr>\n",
       "      <th>w</th>\n",
       "      <td>2824</td>\n",
       "      <td>2733</td>\n",
       "    </tr>\n",
       "    <tr>\n",
       "      <th>y</th>\n",
       "      <td>0</td>\n",
       "      <td>8</td>\n",
       "    </tr>\n",
       "  </tbody>\n",
       "</table>\n",
       "</div>"
      ],
      "text/plain": [
       "class          e     p\n",
       "veil-color            \n",
       "n             70     0\n",
       "o             51     0\n",
       "w           2824  2733\n",
       "y              0     8"
      ]
     },
     "execution_count": 34,
     "metadata": {},
     "output_type": "execute_result"
    }
   ],
   "source": [
    "pd.crosstab(train['veil-color'],train['class'])"
   ]
  },
  {
   "cell_type": "code",
   "execution_count": 35,
   "metadata": {},
   "outputs": [
    {
     "data": {
      "text/plain": [
       "(<matplotlib.figure.Figure at 0x1504bd7bc50>,\n",
       " OrderedDict([(('w', 'p'), (0.0, 0.0, 0.4901782015081394, 0.9628696530585017)),\n",
       "              (('w', 'e'),\n",
       "               (0.49350046064435205,\n",
       "                0.0,\n",
       "                0.50649953935564795,\n",
       "                0.9628696530585017)),\n",
       "              (('o', 'p'),\n",
       "               (0.0, 0.9677957614328859, 0.0, 0.008836845835159902)),\n",
       "              (('o', 'e'),\n",
       "               (0.0033222591362126247,\n",
       "                0.9677957614328859,\n",
       "                0.99667774086378735,\n",
       "                0.008836845835159902)),\n",
       "              (('n', 'p'),\n",
       "               (0.0, 0.9815587156424301, 0.0, 0.012129004087474443)),\n",
       "              (('n', 'e'),\n",
       "               (0.0033222591362126247,\n",
       "                0.9815587156424301,\n",
       "                0.99667774086378735,\n",
       "                0.012129004087474443)),\n",
       "              (('y', 'p'),\n",
       "               (0.0,\n",
       "                0.9986138281042887,\n",
       "                0.99667774086378735,\n",
       "                0.00138617189571134)),\n",
       "              (('y', 'e'),\n",
       "               (1.0, 0.9986138281042887, 0.0, 0.00138617189571134))]))"
      ]
     },
     "execution_count": 35,
     "metadata": {},
     "output_type": "execute_result"
    },
    {
     "data": {
      "image/png": "[encoded data removed]",
      "text/plain": [
       "<matplotlib.figure.Figure at 0x1504bd7bc50>"
      ]
     },
     "metadata": {},
     "output_type": "display_data"
    }
   ],
   "source": [
    "mosaic(train,['veil-color','class'],horizontal=False)"
   ]
  },
  {
   "cell_type": "code",
   "execution_count": 36,
   "metadata": {},
   "outputs": [
    {
     "data": {
      "text/plain": [
       "o    5227\n",
       "t     435\n",
       "n      24\n",
       "Name: ring-number, dtype: int64"
      ]
     },
     "execution_count": 36,
     "metadata": {},
     "output_type": "execute_result"
    }
   ],
   "source": [
    "train['ring-number'].value_counts()"
   ]
  },
  {
   "cell_type": "code",
   "execution_count": 37,
   "metadata": {},
   "outputs": [
    {
     "data": {
      "text/html": [
       "<div>\n",
       "<style>\n",
       "    .dataframe thead tr:only-child th {\n",
       "        text-align: right;\n",
       "    }\n",
       "\n",
       "    .dataframe thead th {\n",
       "        text-align: left;\n",
       "    }\n",
       "\n",
       "    .dataframe tbody tr th {\n",
       "        vertical-align: top;\n",
       "    }\n",
       "</style>\n",
       "<table border=\"1\" class=\"dataframe\">\n",
       "  <thead>\n",
       "    <tr style=\"text-align: right;\">\n",
       "      <th>class</th>\n",
       "      <th>e</th>\n",
       "      <th>p</th>\n",
       "    </tr>\n",
       "    <tr>\n",
       "      <th>ring-number</th>\n",
       "      <th></th>\n",
       "      <th></th>\n",
       "    </tr>\n",
       "  </thead>\n",
       "  <tbody>\n",
       "    <tr>\n",
       "      <th>n</th>\n",
       "      <td>0</td>\n",
       "      <td>24</td>\n",
       "    </tr>\n",
       "    <tr>\n",
       "      <th>o</th>\n",
       "      <td>2562</td>\n",
       "      <td>2665</td>\n",
       "    </tr>\n",
       "    <tr>\n",
       "      <th>t</th>\n",
       "      <td>383</td>\n",
       "      <td>52</td>\n",
       "    </tr>\n",
       "  </tbody>\n",
       "</table>\n",
       "</div>"
      ],
      "text/plain": [
       "class           e     p\n",
       "ring-number            \n",
       "n               0    24\n",
       "o            2562  2665\n",
       "t             383    52"
      ]
     },
     "execution_count": 37,
     "metadata": {},
     "output_type": "execute_result"
    }
   ],
   "source": [
    "pd.crosstab(train['ring-number'],train['class'])"
   ]
  },
  {
   "cell_type": "code",
   "execution_count": 38,
   "metadata": {},
   "outputs": [
    {
     "data": {
      "text/plain": [
       "(<matplotlib.figure.Figure at 0x1504be3c518>,\n",
       " OrderedDict([(('o', 'p'),\n",
       "               (0.0, 0.0, 0.50815882521560995, 0.9101736765305092)),\n",
       "              (('o', 'e'),\n",
       "               (0.51148108435182249,\n",
       "                0.0,\n",
       "                0.4885189156481774,\n",
       "                0.9101736765305092)),\n",
       "              (('t', 'p'),\n",
       "               (0.0,\n",
       "                0.9151241715800141,\n",
       "                0.11914308626417687,\n",
       "                0.07574623097202442)),\n",
       "              (('t', 'e'),\n",
       "               (0.12246534540038949,\n",
       "                0.9151241715800141,\n",
       "                0.87753465459961044,\n",
       "                0.07574623097202442)),\n",
       "              (('n', 'p'),\n",
       "               (0.0,\n",
       "                0.9958208976015436,\n",
       "                0.99667774086378735,\n",
       "                0.004179102398456465)),\n",
       "              (('n', 'e'),\n",
       "               (1.0, 0.9958208976015436, 0.0, 0.004179102398456465))]))"
      ]
     },
     "execution_count": 38,
     "metadata": {},
     "output_type": "execute_result"
    },
    {
     "data": {
      "image/png": "[encoded data removed]",
      "text/plain": [
       "<matplotlib.figure.Figure at 0x1504be3c518>"
      ]
     },
     "metadata": {},
     "output_type": "display_data"
    }
   ],
   "source": [
    "mosaic(train,['ring-number','class'],horizontal=False)"
   ]
  },
  {
   "cell_type": "code",
   "execution_count": 39,
   "metadata": {},
   "outputs": [
    {
     "data": {
      "text/plain": [
       "p    2788\n",
       "e    1931\n",
       "l     911\n",
       "f      32\n",
       "n      24\n",
       "Name: ring-type, dtype: int64"
      ]
     },
     "execution_count": 39,
     "metadata": {},
     "output_type": "execute_result"
    }
   ],
   "source": [
    "train['ring-type'].value_counts()"
   ]
  },
  {
   "cell_type": "code",
   "execution_count": 40,
   "metadata": {},
   "outputs": [
    {
     "data": {
      "text/html": [
       "<div>\n",
       "<style>\n",
       "    .dataframe thead tr:only-child th {\n",
       "        text-align: right;\n",
       "    }\n",
       "\n",
       "    .dataframe thead th {\n",
       "        text-align: left;\n",
       "    }\n",
       "\n",
       "    .dataframe tbody tr th {\n",
       "        vertical-align: top;\n",
       "    }\n",
       "</style>\n",
       "<table border=\"1\" class=\"dataframe\">\n",
       "  <thead>\n",
       "    <tr style=\"text-align: right;\">\n",
       "      <th>class</th>\n",
       "      <th>e</th>\n",
       "      <th>p</th>\n",
       "    </tr>\n",
       "    <tr>\n",
       "      <th>ring-type</th>\n",
       "      <th></th>\n",
       "      <th></th>\n",
       "    </tr>\n",
       "  </thead>\n",
       "  <tbody>\n",
       "    <tr>\n",
       "      <th>e</th>\n",
       "      <td>699</td>\n",
       "      <td>1232</td>\n",
       "    </tr>\n",
       "    <tr>\n",
       "      <th>f</th>\n",
       "      <td>32</td>\n",
       "      <td>0</td>\n",
       "    </tr>\n",
       "    <tr>\n",
       "      <th>l</th>\n",
       "      <td>0</td>\n",
       "      <td>911</td>\n",
       "    </tr>\n",
       "    <tr>\n",
       "      <th>n</th>\n",
       "      <td>0</td>\n",
       "      <td>24</td>\n",
       "    </tr>\n",
       "    <tr>\n",
       "      <th>p</th>\n",
       "      <td>2214</td>\n",
       "      <td>574</td>\n",
       "    </tr>\n",
       "  </tbody>\n",
       "</table>\n",
       "</div>"
      ],
      "text/plain": [
       "class         e     p\n",
       "ring-type            \n",
       "e           699  1232\n",
       "f            32     0\n",
       "l             0   911\n",
       "n             0    24\n",
       "p          2214   574"
      ]
     },
     "execution_count": 40,
     "metadata": {},
     "output_type": "execute_result"
    }
   ],
   "source": [
    "pd.crosstab(train['ring-type'],train['class'])"
   ]
  },
  {
   "cell_type": "code",
   "execution_count": 41,
   "metadata": {},
   "outputs": [
    {
     "data": {
      "text/plain": [
       "(<matplotlib.figure.Figure at 0x1504c074f60>,\n",
       " OrderedDict([(('e', 'p'),\n",
       "               (0.0, 0.0, 0.63589175388098707, 0.33294710779141057)),\n",
       "              (('e', 'e'),\n",
       "               (0.6392140130171996,\n",
       "                0.0,\n",
       "                0.36078598698280023,\n",
       "                0.33294710779141057)),\n",
       "              (('p', 'p'),\n",
       "               (0.0,\n",
       "                0.33784906857572433,\n",
       "                0.20519835841313266,\n",
       "                0.48071286200023455)),\n",
       "              (('p', 'e'),\n",
       "               (0.20852061754934528,\n",
       "                0.33784906857572433,\n",
       "                0.79147938245065463,\n",
       "                0.48071286200023455)),\n",
       "              (('l', 'p'),\n",
       "               (0.0,\n",
       "                0.8234638913602726,\n",
       "                0.99667774086378735,\n",
       "                0.15707654852303213)),\n",
       "              (('l', 'e'),\n",
       "               (1.0, 0.8234638913602726, 0.0, 0.15707654852303213)),\n",
       "              (('f', 'p'),\n",
       "               (0.0, 0.9854424006676185, 0.0, 0.005517507741753089)),\n",
       "              (('f', 'e'),\n",
       "               (0.0033222591362126247,\n",
       "                0.9854424006676185,\n",
       "                0.99667774086378735,\n",
       "                0.005517507741753089)),\n",
       "              (('n', 'p'),\n",
       "               (0.0,\n",
       "                0.9958618691936852,\n",
       "                0.99667774086378735,\n",
       "                0.004138130806314735)),\n",
       "              (('n', 'e'),\n",
       "               (1.0, 0.9958618691936852, 0.0, 0.004138130806314735))]))"
      ]
     },
     "execution_count": 41,
     "metadata": {},
     "output_type": "execute_result"
    },
    {
     "data": {
      "image/png": "[encoded data removed]",
      "text/plain": [
       "<matplotlib.figure.Figure at 0x1504c074f60>"
      ]
     },
     "metadata": {},
     "output_type": "display_data"
    }
   ],
   "source": [
    "mosaic(train,['ring-type','class'],horizontal=False)"
   ]
  },
  {
   "cell_type": "code",
   "execution_count": 42,
   "metadata": {},
   "outputs": [
    {
     "data": {
      "text/plain": [
       "w    1682\n",
       "n    1401\n",
       "k    1284\n",
       "h    1142\n",
       "r      52\n",
       "u      35\n",
       "b      32\n",
       "y      32\n",
       "o      26\n",
       "Name: spore-print-color, dtype: int64"
      ]
     },
     "execution_count": 42,
     "metadata": {},
     "output_type": "execute_result"
    }
   ],
   "source": [
    "train['spore-print-color'].value_counts()"
   ]
  },
  {
   "cell_type": "code",
   "execution_count": 43,
   "metadata": {},
   "outputs": [
    {
     "data": {
      "text/html": [
       "<div>\n",
       "<style>\n",
       "    .dataframe thead tr:only-child th {\n",
       "        text-align: right;\n",
       "    }\n",
       "\n",
       "    .dataframe thead th {\n",
       "        text-align: left;\n",
       "    }\n",
       "\n",
       "    .dataframe tbody tr th {\n",
       "        vertical-align: top;\n",
       "    }\n",
       "</style>\n",
       "<table border=\"1\" class=\"dataframe\">\n",
       "  <thead>\n",
       "    <tr style=\"text-align: right;\">\n",
       "      <th>class</th>\n",
       "      <th>e</th>\n",
       "      <th>p</th>\n",
       "    </tr>\n",
       "    <tr>\n",
       "      <th>spore-print-color</th>\n",
       "      <th></th>\n",
       "      <th></th>\n",
       "    </tr>\n",
       "  </thead>\n",
       "  <tbody>\n",
       "    <tr>\n",
       "      <th>b</th>\n",
       "      <td>32</td>\n",
       "      <td>0</td>\n",
       "    </tr>\n",
       "    <tr>\n",
       "      <th>h</th>\n",
       "      <td>32</td>\n",
       "      <td>1110</td>\n",
       "    </tr>\n",
       "    <tr>\n",
       "      <th>k</th>\n",
       "      <td>1124</td>\n",
       "      <td>160</td>\n",
       "    </tr>\n",
       "    <tr>\n",
       "      <th>n</th>\n",
       "      <td>1246</td>\n",
       "      <td>155</td>\n",
       "    </tr>\n",
       "    <tr>\n",
       "      <th>o</th>\n",
       "      <td>26</td>\n",
       "      <td>0</td>\n",
       "    </tr>\n",
       "    <tr>\n",
       "      <th>r</th>\n",
       "      <td>0</td>\n",
       "      <td>52</td>\n",
       "    </tr>\n",
       "    <tr>\n",
       "      <th>u</th>\n",
       "      <td>35</td>\n",
       "      <td>0</td>\n",
       "    </tr>\n",
       "    <tr>\n",
       "      <th>w</th>\n",
       "      <td>418</td>\n",
       "      <td>1264</td>\n",
       "    </tr>\n",
       "    <tr>\n",
       "      <th>y</th>\n",
       "      <td>32</td>\n",
       "      <td>0</td>\n",
       "    </tr>\n",
       "  </tbody>\n",
       "</table>\n",
       "</div>"
      ],
      "text/plain": [
       "class                 e     p\n",
       "spore-print-color            \n",
       "b                    32     0\n",
       "h                    32  1110\n",
       "k                  1124   160\n",
       "n                  1246   155\n",
       "o                    26     0\n",
       "r                     0    52\n",
       "u                    35     0\n",
       "w                   418  1264\n",
       "y                    32     0"
      ]
     },
     "execution_count": 43,
     "metadata": {},
     "output_type": "execute_result"
    }
   ],
   "source": [
    "pd.crosstab(train['spore-print-color'],train['class'])"
   ]
  },
  {
   "cell_type": "code",
   "execution_count": 44,
   "metadata": {
    "scrolled": false
   },
   "outputs": [
    {
     "data": {
      "text/plain": [
       "(<matplotlib.figure.Figure at 0x1504c117e48>,\n",
       " OrderedDict([(('w', 'p'),\n",
       "               (0.0, 0.0, 0.74898969349097932, 0.2844368083552044)),\n",
       "              (('w', 'e'),\n",
       "               (0.75231195262719197,\n",
       "                0.0,\n",
       "                0.24768804737280797,\n",
       "                0.2844368083552044)),\n",
       "              (('n', 'p'),\n",
       "               (0.0,\n",
       "                0.2892445006628967,\n",
       "                0.11026770152311707,\n",
       "                0.2369179360913445)),\n",
       "              (('n', 'e'),\n",
       "               (0.11358996065932969,\n",
       "                0.2892445006628967,\n",
       "                0.8864100393406702,\n",
       "                0.2369179360913445)),\n",
       "              (('h', 'p'),\n",
       "               (0.0,\n",
       "                0.5309701290619335,\n",
       "                0.96874981817758665,\n",
       "                0.19311940258123866)),\n",
       "              (('h', 'e'),\n",
       "               (0.97207207731379919,\n",
       "                0.5309701290619335,\n",
       "                0.027927922686200694,\n",
       "                0.19311940258123866)),\n",
       "              (('k', 'p'),\n",
       "               (0.0,\n",
       "                0.7288972239508645,\n",
       "                0.12419660322290184,\n",
       "                0.2171324981736518)),\n",
       "              (('k', 'e'),\n",
       "               (0.12751886235911447,\n",
       "                0.7288972239508645,\n",
       "                0.87248113764088542,\n",
       "                0.2171324981736518)),\n",
       "              (('u', 'p'),\n",
       "               (0.0, 0.9508374144322086, 0.0, 0.005918720744608923)),\n",
       "              (('u', 'e'),\n",
       "               (0.0033222591362126247,\n",
       "                0.9508374144322086,\n",
       "                0.99667774086378735,\n",
       "                0.005918720744608923)),\n",
       "              (('o', 'p'),\n",
       "               (0.0, 0.9615638274845099, 0.0, 0.004396763981709513)),\n",
       "              (('o', 'e'),\n",
       "               (0.0033222591362126247,\n",
       "                0.9615638274845099,\n",
       "                0.99667774086378735,\n",
       "                0.004396763981709513)),\n",
       "              (('b', 'p'),\n",
       "               (0.0, 0.9707682837739117, 0.0, 0.005411401823642346)),\n",
       "              (('b', 'e'),\n",
       "               (0.0033222591362126247,\n",
       "                0.9707682837739117,\n",
       "                0.99667774086378735,\n",
       "                0.005411401823642346)),\n",
       "              (('y', 'p'),\n",
       "               (0.0, 0.9809873779052463, 0.0, 0.0054114018236424526)),\n",
       "              (('y', 'e'),\n",
       "               (0.0033222591362126247,\n",
       "                0.9809873779052463,\n",
       "                0.99667774086378735,\n",
       "                0.0054114018236424526)),\n",
       "              (('r', 'p'),\n",
       "               (0.0,\n",
       "                0.991206472036581,\n",
       "                0.99667774086378735,\n",
       "                0.008793527963418918)),\n",
       "              (('r', 'e'),\n",
       "               (1.0, 0.991206472036581, 0.0, 0.008793527963418918))]))"
      ]
     },
     "execution_count": 44,
     "metadata": {},
     "output_type": "execute_result"
    },
    {
     "data": {
      "image/png": "[encoded data removed]",
      "text/plain": [
       "<matplotlib.figure.Figure at 0x1504c117e48>"
      ]
     },
     "metadata": {},
     "output_type": "display_data"
    }
   ],
   "source": [
    "mosaic(train,['spore-print-color','class'],horizontal=False)"
   ]
  },
  {
   "cell_type": "code",
   "execution_count": 45,
   "metadata": {},
   "outputs": [
    {
     "data": {
      "text/plain": [
       "v    2814\n",
       "y    1219\n",
       "s     877\n",
       "n     279\n",
       "a     255\n",
       "c     242\n",
       "Name: population, dtype: int64"
      ]
     },
     "execution_count": 45,
     "metadata": {},
     "output_type": "execute_result"
    }
   ],
   "source": [
    "train['population'].value_counts()"
   ]
  },
  {
   "cell_type": "code",
   "execution_count": 46,
   "metadata": {},
   "outputs": [
    {
     "data": {
      "text/html": [
       "<div>\n",
       "<style>\n",
       "    .dataframe thead tr:only-child th {\n",
       "        text-align: right;\n",
       "    }\n",
       "\n",
       "    .dataframe thead th {\n",
       "        text-align: left;\n",
       "    }\n",
       "\n",
       "    .dataframe tbody tr th {\n",
       "        vertical-align: top;\n",
       "    }\n",
       "</style>\n",
       "<table border=\"1\" class=\"dataframe\">\n",
       "  <thead>\n",
       "    <tr style=\"text-align: right;\">\n",
       "      <th>class</th>\n",
       "      <th>e</th>\n",
       "      <th>p</th>\n",
       "    </tr>\n",
       "    <tr>\n",
       "      <th>population</th>\n",
       "      <th></th>\n",
       "      <th></th>\n",
       "    </tr>\n",
       "  </thead>\n",
       "  <tbody>\n",
       "    <tr>\n",
       "      <th>a</th>\n",
       "      <td>255</td>\n",
       "      <td>0</td>\n",
       "    </tr>\n",
       "    <tr>\n",
       "      <th>c</th>\n",
       "      <td>202</td>\n",
       "      <td>40</td>\n",
       "    </tr>\n",
       "    <tr>\n",
       "      <th>n</th>\n",
       "      <td>279</td>\n",
       "      <td>0</td>\n",
       "    </tr>\n",
       "    <tr>\n",
       "      <th>s</th>\n",
       "      <td>616</td>\n",
       "      <td>261</td>\n",
       "    </tr>\n",
       "    <tr>\n",
       "      <th>v</th>\n",
       "      <td>841</td>\n",
       "      <td>1973</td>\n",
       "    </tr>\n",
       "    <tr>\n",
       "      <th>y</th>\n",
       "      <td>752</td>\n",
       "      <td>467</td>\n",
       "    </tr>\n",
       "  </tbody>\n",
       "</table>\n",
       "</div>"
      ],
      "text/plain": [
       "class         e     p\n",
       "population           \n",
       "a           255     0\n",
       "c           202    40\n",
       "n           279     0\n",
       "s           616   261\n",
       "v           841  1973\n",
       "y           752   467"
      ]
     },
     "execution_count": 46,
     "metadata": {},
     "output_type": "execute_result"
    }
   ],
   "source": [
    "pd.crosstab(train['population'],train['class'])"
   ]
  },
  {
   "cell_type": "code",
   "execution_count": 47,
   "metadata": {},
   "outputs": [
    {
     "data": {
      "text/plain": [
       "(<matplotlib.figure.Figure at 0x1504c3e1e48>,\n",
       " OrderedDict([(('v', 'p'),\n",
       "               (0.0, 0.0, 0.69880781191338037, 0.48282902807923617)),\n",
       "              (('v', 'e'),\n",
       "               (0.70213007104959302,\n",
       "                0.0,\n",
       "                0.29786992895040693,\n",
       "                0.48282902807923617)),\n",
       "              (('c', 'p'),\n",
       "               (0.0,\n",
       "                0.487707076859724,\n",
       "                0.16474012245682434,\n",
       "                0.04152261009068054)),\n",
       "              (('c', 'e'),\n",
       "               (0.16806238159303696,\n",
       "                0.487707076859724,\n",
       "                0.8319376184069629,\n",
       "                0.04152261009068054)),\n",
       "              (('s', 'p'),\n",
       "               (0.0,\n",
       "                0.5341077357308923,\n",
       "                0.29661675070176569,\n",
       "                0.150476566320359)),\n",
       "              (('s', 'e'),\n",
       "               (0.29993900983797833,\n",
       "                0.5341077357308923,\n",
       "                0.70006099016202161,\n",
       "                0.150476566320359)),\n",
       "              (('y', 'p'),\n",
       "               (0.0,\n",
       "                0.6894623508317391,\n",
       "                0.38182814190597925,\n",
       "                0.20915727975429593)),\n",
       "              (('y', 'e'),\n",
       "               (0.38515040104219189,\n",
       "                0.6894623508317391,\n",
       "                0.61484959895780811,\n",
       "                0.20915727975429593)),\n",
       "              (('a', 'p'), (0.0, 0.9034976793665229, 0.0, 0.0437531635253039)),\n",
       "              (('a', 'e'),\n",
       "               (0.0033222591362126247,\n",
       "                0.9034976793665229,\n",
       "                0.99667774086378735,\n",
       "                0.0437531635253039)),\n",
       "              (('n', 'p'),\n",
       "               (0.0, 0.9521288916723146, 0.0, 0.047871108327685506)),\n",
       "              (('n', 'e'),\n",
       "               (0.0033222591362126247,\n",
       "                0.9521288916723146,\n",
       "                0.99667774086378735,\n",
       "                0.047871108327685506))]))"
      ]
     },
     "execution_count": 47,
     "metadata": {},
     "output_type": "execute_result"
    },
    {
     "data": {
      "image/png": "[encoded data removed]",
      "text/plain": [
       "<matplotlib.figure.Figure at 0x1504c3e1e48>"
      ]
     },
     "metadata": {},
     "output_type": "display_data"
    }
   ],
   "source": [
    "mosaic(train,['population','class'],horizontal=False)"
   ]
  },
  {
   "cell_type": "code",
   "execution_count": 48,
   "metadata": {},
   "outputs": [
    {
     "data": {
      "text/plain": [
       "d    2227\n",
       "g    1500\n",
       "p     798\n",
       "l     568\n",
       "u     256\n",
       "m     198\n",
       "w     139\n",
       "Name: habitat, dtype: int64"
      ]
     },
     "execution_count": 48,
     "metadata": {},
     "output_type": "execute_result"
    }
   ],
   "source": [
    "train['habitat'].value_counts()"
   ]
  },
  {
   "cell_type": "code",
   "execution_count": 49,
   "metadata": {},
   "outputs": [
    {
     "data": {
      "text/html": [
       "<div>\n",
       "<style>\n",
       "    .dataframe thead tr:only-child th {\n",
       "        text-align: right;\n",
       "    }\n",
       "\n",
       "    .dataframe thead th {\n",
       "        text-align: left;\n",
       "    }\n",
       "\n",
       "    .dataframe tbody tr th {\n",
       "        vertical-align: top;\n",
       "    }\n",
       "</style>\n",
       "<table border=\"1\" class=\"dataframe\">\n",
       "  <thead>\n",
       "    <tr style=\"text-align: right;\">\n",
       "      <th>class</th>\n",
       "      <th>e</th>\n",
       "      <th>p</th>\n",
       "    </tr>\n",
       "    <tr>\n",
       "      <th>habitat</th>\n",
       "      <th></th>\n",
       "      <th></th>\n",
       "    </tr>\n",
       "  </thead>\n",
       "  <tbody>\n",
       "    <tr>\n",
       "      <th>d</th>\n",
       "      <td>1338</td>\n",
       "      <td>889</td>\n",
       "    </tr>\n",
       "    <tr>\n",
       "      <th>g</th>\n",
       "      <td>975</td>\n",
       "      <td>525</td>\n",
       "    </tr>\n",
       "    <tr>\n",
       "      <th>l</th>\n",
       "      <td>156</td>\n",
       "      <td>412</td>\n",
       "    </tr>\n",
       "    <tr>\n",
       "      <th>m</th>\n",
       "      <td>175</td>\n",
       "      <td>23</td>\n",
       "    </tr>\n",
       "    <tr>\n",
       "      <th>p</th>\n",
       "      <td>95</td>\n",
       "      <td>703</td>\n",
       "    </tr>\n",
       "    <tr>\n",
       "      <th>u</th>\n",
       "      <td>67</td>\n",
       "      <td>189</td>\n",
       "    </tr>\n",
       "    <tr>\n",
       "      <th>w</th>\n",
       "      <td>139</td>\n",
       "      <td>0</td>\n",
       "    </tr>\n",
       "  </tbody>\n",
       "</table>\n",
       "</div>"
      ],
      "text/plain": [
       "class       e    p\n",
       "habitat           \n",
       "d        1338  889\n",
       "g         975  525\n",
       "l         156  412\n",
       "m         175   23\n",
       "p          95  703\n",
       "u          67  189\n",
       "w         139    0"
      ]
     },
     "execution_count": 49,
     "metadata": {},
     "output_type": "execute_result"
    }
   ],
   "source": [
    "pd.crosstab(train['habitat'],train['class'])"
   ]
  },
  {
   "cell_type": "code",
   "execution_count": 50,
   "metadata": {},
   "outputs": [
    {
     "data": {
      "text/plain": [
       "(<matplotlib.figure.Figure at 0x1504c3e7278>,\n",
       " OrderedDict([(('l', 'p'),\n",
       "               (0.0, 0.0, 0.72294230499274714, 0.09698492977129997)),\n",
       "              (('l', 'e'),\n",
       "               (0.72626456412895979,\n",
       "                0.0,\n",
       "                0.27373543587104016,\n",
       "                0.09698492977129997)),\n",
       "              (('u', 'p'),\n",
       "               (0.0,\n",
       "                0.10183929870333881,\n",
       "                0.73582848837209291,\n",
       "                0.0437115176434028)),\n",
       "              (('u', 'e'),\n",
       "               (0.73915074750830556,\n",
       "                0.10183929870333881,\n",
       "                0.26084925249169433,\n",
       "                0.0437115176434028)),\n",
       "              (('w', 'p'),\n",
       "               (0.0, 0.15040518527878044, 0.0, 0.02373398809544136)),\n",
       "              (('w', 'e'),\n",
       "               (0.0033222591362126247,\n",
       "                0.15040518527878044,\n",
       "                0.99667774086378735,\n",
       "                0.02373398809544136)),\n",
       "              (('m', 'p'),\n",
       "               (0.0,\n",
       "                0.17899354230626063,\n",
       "                0.11577569717104599,\n",
       "                0.03380812692731936)),\n",
       "              (('m', 'e'),\n",
       "               (0.11909795630725861,\n",
       "                0.17899354230626063,\n",
       "                0.88090204369274128,\n",
       "                0.03380812692731936)),\n",
       "              (('g', 'p'),\n",
       "               (0.0,\n",
       "                0.21765603816561882,\n",
       "                0.34883720930232553,\n",
       "                0.2561221736918133)),\n",
       "              (('g', 'e'),\n",
       "               (0.35215946843853818,\n",
       "                0.21765603816561882,\n",
       "                0.64784053156146182,\n",
       "                0.2561221736918133)),\n",
       "              (('d', 'p'),\n",
       "               (0.0,\n",
       "                0.478632580789471,\n",
       "                0.39786551936592135,\n",
       "                0.38025605387444544)),\n",
       "              (('d', 'e'),\n",
       "               (0.401187778502134,\n",
       "                0.478632580789471,\n",
       "                0.59881222149786595,\n",
       "                0.38025605387444544)),\n",
       "              (('p', 'p'),\n",
       "               (0.0,\n",
       "                0.8637430035959553,\n",
       "                0.87802562885619351,\n",
       "                0.13625699640404468)),\n",
       "              (('p', 'e'),\n",
       "               (0.88134788799240615,\n",
       "                0.8637430035959553,\n",
       "                0.11865211200759375,\n",
       "                0.13625699640404468))]))"
      ]
     },
     "execution_count": 50,
     "metadata": {},
     "output_type": "execute_result"
    },
    {
     "data": {
      "image/png": "[encoded data removed]",
      "text/plain": [
       "<matplotlib.figure.Figure at 0x1504c3e7278>"
      ]
     },
     "metadata": {},
     "output_type": "display_data"
    }
   ],
   "source": [
    "mosaic(train,['habitat','class'],horizontal=False)"
   ]
  },
  {
   "cell_type": "markdown",
   "metadata": {
    "collapsed": true
   },
   "source": [
    "#### Next I will analyze continuous variables."
   ]
  },
  {
   "cell_type": "code",
   "execution_count": 4,
   "metadata": {},
   "outputs": [
    {
     "data": {
      "text/plain": [
       "<matplotlib.axes._subplots.AxesSubplot at 0x2818b23d2e8>"
      ]
     },
     "execution_count": 4,
     "metadata": {},
     "output_type": "execute_result"
    },
    {
     "data": {
      "image/png": "[encoded data removed]",
      "text/plain": [
       "<matplotlib.figure.Figure at 0x2818b213d68>"
      ]
     },
     "metadata": {},
     "output_type": "display_data"
    }
   ],
   "source": [
    "sns.stripplot(x='class',y='radius',data=train,jitter=True)"
   ]
  },
  {
   "cell_type": "markdown",
   "metadata": {},
   "source": [
    "From the plot, it is clear that in case of extremely large values of radius, only two values exist which gives red signal. This observation should be thoroughly examined. Let's what are those two values."
   ]
  },
  {
   "cell_type": "code",
   "execution_count": 5,
   "metadata": {},
   "outputs": [
    {
     "data": {
      "text/plain": [
       "64      3500\n",
       "249     3500\n",
       "294     3500\n",
       "426     2300\n",
       "558     2300\n",
       "566     2300\n",
       "569     3500\n",
       "661     3500\n",
       "704     3500\n",
       "923     3500\n",
       "1030    2300\n",
       "1047    2300\n",
       "1161    2300\n",
       "1199    2300\n",
       "1410    3500\n",
       "1472    2300\n",
       "1697    3500\n",
       "1750    3500\n",
       "1831    3500\n",
       "1876    3500\n",
       "1965    3500\n",
       "1989    3500\n",
       "2169    3500\n",
       "2193    3500\n",
       "2490    2300\n",
       "2499    3500\n",
       "2608    3500\n",
       "2662    3500\n",
       "2732    3500\n",
       "2741    3500\n",
       "        ... \n",
       "3348    3500\n",
       "3354    2300\n",
       "3421    3500\n",
       "3430    3500\n",
       "3474    3500\n",
       "3661    3500\n",
       "4017    3500\n",
       "4131    2300\n",
       "4146    3500\n",
       "4159    2300\n",
       "4221    2300\n",
       "4269    2300\n",
       "4295    2300\n",
       "4308    2300\n",
       "4335    2300\n",
       "4498    3500\n",
       "4664    3500\n",
       "4716    2300\n",
       "4823    2300\n",
       "4979    2300\n",
       "5000    3500\n",
       "5067    3500\n",
       "5173    3500\n",
       "5421    3500\n",
       "5474    2300\n",
       "5490    3500\n",
       "5568    2300\n",
       "5583    3500\n",
       "5625    3500\n",
       "5654    3500\n",
       "Name: radius, Length: 65, dtype: int64"
      ]
     },
     "execution_count": 5,
     "metadata": {},
     "output_type": "execute_result"
    }
   ],
   "source": [
    "train[train.radius>1000]['radius']"
   ]
  },
  {
   "cell_type": "markdown",
   "metadata": {},
   "source": [
    "It's 3500 and 2300. Now I am sure that this is due to some mistake in data collection or data record keeping. I have to impute these values. I will keep things simple and impute with mean. "
   ]
  },
  {
   "cell_type": "code",
   "execution_count": 11,
   "metadata": {
    "collapsed": true
   },
   "outputs": [],
   "source": [
    "train.loc[train.radius>1000,'radius'] = train.loc[train.radius>1000].mean()"
   ]
  },
  {
   "cell_type": "markdown",
   "metadata": {},
   "source": [
    "Let me crooscheck whether everything is fine or not."
   ]
  },
  {
   "cell_type": "code",
   "execution_count": 12,
   "metadata": {},
   "outputs": [
    {
     "data": {
      "text/plain": [
       "<matplotlib.axes._subplots.AxesSubplot at 0x1e46f5647b8>"
      ]
     },
     "execution_count": 12,
     "metadata": {},
     "output_type": "execute_result"
    },
    {
     "data": {
      "image/png": "[encoded data removed]",
      "text/plain": [
       "<matplotlib.figure.Figure at 0x1e46f5eaac8>"
      ]
     },
     "metadata": {},
     "output_type": "display_data"
    }
   ],
   "source": [
    "sns.stripplot(x='class',y='radius',data=train,jitter=True)"
   ]
  },
  {
   "cell_type": "markdown",
   "metadata": {},
   "source": [
    "Next, lets proceed with weight in the same manner."
   ]
  },
  {
   "cell_type": "code",
   "execution_count": 13,
   "metadata": {},
   "outputs": [
    {
     "data": {
      "text/plain": [
       "<matplotlib.axes._subplots.AxesSubplot at 0x1e46f699860>"
      ]
     },
     "execution_count": 13,
     "metadata": {},
     "output_type": "execute_result"
    },
    {
     "data": {
      "image/png": "[encoded data removed]",
      "text/plain": [
       "<matplotlib.figure.Figure at 0x1e46f6a8470>"
      ]
     },
     "metadata": {},
     "output_type": "display_data"
    }
   ],
   "source": [
    "sns.stripplot(x='class',y='weight',data=train,jitter=True)"
   ]
  },
  {
   "cell_type": "code",
   "execution_count": 14,
   "metadata": {},
   "outputs": [
    {
     "data": {
      "text/plain": [
       "(51,)"
      ]
     },
     "execution_count": 14,
     "metadata": {},
     "output_type": "execute_result"
    }
   ],
   "source": [
    "train.weight[train.weight==0].shape"
   ]
  },
  {
   "cell_type": "markdown",
   "metadata": {},
   "source": [
    "Weight of mushroom = 0 indicates mistakes in the data and needs to be imputed with suitable values."
   ]
  },
  {
   "cell_type": "code",
   "execution_count": 15,
   "metadata": {
    "collapsed": true
   },
   "outputs": [],
   "source": [
    "train.loc[train.weight==0,'weight'] = train.loc[train.weight != 0].mean()"
   ]
  },
  {
   "cell_type": "code",
   "execution_count": 16,
   "metadata": {},
   "outputs": [
    {
     "data": {
      "text/plain": [
       "<matplotlib.axes._subplots.AxesSubplot at 0x1e46f6f6c50>"
      ]
     },
     "execution_count": 16,
     "metadata": {},
     "output_type": "execute_result"
    },
    {
     "data": {
      "image/png": "[encoded data removed]",
      "text/plain": [
       "<matplotlib.figure.Figure at 0x1e46f70d240>"
      ]
     },
     "metadata": {},
     "output_type": "display_data"
    }
   ],
   "source": [
    "sns.stripplot(x='class',y='weight',data=train,jitter=True)"
   ]
  },
  {
   "cell_type": "code",
   "execution_count": null,
   "metadata": {
    "collapsed": true
   },
   "outputs": [],
   "source": []
  }
 ],
 "metadata": {
  "kernelspec": {
   "display_name": "Python 3",
   "language": "python",
   "name": "python3"
  },
  "language_info": {
   "codemirror_mode": {
    "name": "ipython",
    "version": 3
   },
   "file_extension": ".py",
   "mimetype": "text/x-python",
   "name": "python",
   "nbconvert_exporter": "python",
   "pygments_lexer": "ipython3",
   "version": "3.6.1"
  }
 },
 "nbformat": 4,
 "nbformat_minor": 2
}
